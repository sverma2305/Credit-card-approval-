{
 "cells": [
  {
   "cell_type": "markdown",
   "id": "22e55ffc",
   "metadata": {},
   "source": [
    "# Credit Card Approval Prediction"
   ]
  },
  {
   "cell_type": "markdown",
   "id": "e4e120e9",
   "metadata": {},
   "source": [
    "## Introduction:\n",
    "\n",
    "A bank's credit card department is one of the top adopters of data science. A top focus for the bank has always been acquiring new credit card customers. Giving out credit cards without doing proper research or evaluating applicants' creditworthiness is quite risky. The credit card department has been using a data-driven system for credit assessment called Credit Scoring for many years, and the model is known as an application scorecard. A credit card application's cutoff value is determined using the application scorecard, which also aids in estimating the applicant's level of risk. This decision is made based on strategic priority at a given time.\n",
    "\n",
    "Customers must fill out a form, either physically or online, to apply for a credit card. The application data is used to evaluate the applicant's creditworthiness. The decision is made using the application data in addition to the Credit Bureau Score, such as the FICO Score in the US or the CIBIL Score in India, and other internal information on the applicants. Additionally, the banks are rapidly taking a lot of outside data into account to enhance the caliber of credit judgements."
   ]
  },
  {
   "cell_type": "markdown",
   "id": "91a5512a",
   "metadata": {},
   "source": [
    "## Question & Answers:\n",
    "\n",
    "Q1.  Why is your proposal important in today’s world? How predicting a good client is worthy for a bank?\n",
    "Ans. Banks face major losses due to high NPA (Non Performing Assets) rates i.e overdue customer loans. Thus our model is usefull to predict whether the customer will be able to return the loan amount or not. This will help banks to lend Credit Cards to specific customers and reduce their losses.\n",
    "\n",
    "Q2.  How is it going to impact the banking sector?\n",
    "Ans. This Credit Card approval system will have a huge impact on the banking sector where only eligible customers will get Credit Card servies, they can collect more interest which will help bank to provide loans to the customers, reducing bank's NPA rates.\n",
    "\n",
    "Q3.  If any, what is the gap in the knowledge or how your proposed method can be helpful if required in future for any bank in        India.\n",
    "Ans. A bad quality of data or missing data can prove to be a problem for such models which can lead to lower accuracy and       incorrect predictions, yet various other parameters for which customers aren't responsible can prove to be a potential gap between reality and model's predictions."
   ]
  },
  {
   "cell_type": "markdown",
   "id": "258af5c0",
   "metadata": {},
   "source": [
    "## Initial Hypothesis:\n",
    "\n",
    "Prediction Hypothesis: We can predict credit card approval using applicant data and machine learning.\n",
    "\n",
    "Benefits of Prediction: Prediction benefits include improved risk management, faster decisions, reduced defaults, and increased profitability.\n",
    "\n",
    "Financial Strength Hypothesis: Higher income and stable employment favor credit card approval, indicating a stronger financial profile.\n",
    "\n",
    "Contact Information: Contact details are collected but are not primary factors for approval; financial stability and credit history matter more.\n",
    "\n",
    "Family Size & Marital Status Effect: Family size and marital status may influence credit card approval, especially for larger families and married individuals.\n",
    "\n",
    "Housing & Property Ownership Hypothesis: Housing type and property ownership impact approval, favoring those with stable housing and property ownership."
   ]
  },
  {
   "cell_type": "markdown",
   "id": "15200f19",
   "metadata": {},
   "source": [
    "## Importing Libraries"
   ]
  },
  {
   "cell_type": "code",
   "execution_count": 9,
   "id": "bbee3dce",
   "metadata": {},
   "outputs": [],
   "source": [
    "# Warning is used to supress the display of warnings\n",
    "import warnings\n",
    "warnings.filterwarnings(\"ignore\")\n",
    "\n",
    "# Numpy is used for Mathematical operations\n",
    "import numpy as np\n",
    "\n",
    "# Pandas is used for Data manipulaiton and analysis\n",
    "import pandas as pd\n",
    "\n",
    "# Matplotlib, Plotly and seaborn is used for visualization\n",
    "import matplotlib.pyplot as plt\n",
    "import plotly.graph_objs as go\n",
    "import plotly.offline as po\n",
    "import seaborn as sns\n",
    "\n",
    "# To encode the variables\n",
    "from sklearn.compose import ColumnTransformer\n",
    "from sklearn.preprocessing import OneHotEncoder\n",
    "\n",
    "# Model Selection used for splitting the dataset into train and test\n",
    "from sklearn.model_selection import train_test_split\n",
    "\n",
    "# StandardScaler used to Standardize the all the variables\n",
    "from sklearn.preprocessing import StandardScaler\n",
    "\n",
    "# Scikit - Learn features various Models and metrics\n",
    "from sklearn.linear_model import LogisticRegression\n",
    "from sklearn.tree import DecisionTreeClassifier\n",
    "from sklearn.ensemble import RandomForestClassifier\n",
    "from sklearn.svm import SVC\n",
    "from sklearn.metrics import accuracy_score, precision_score, recall_score, f1_score, confusion_matrix, classification_report\n",
    "from sklearn.model_selection import GridSearchCV #Hyperparameter Tuning"
   ]
  },
  {
   "cell_type": "code",
   "execution_count": 12,
   "id": "9b355588",
   "metadata": {},
   "outputs": [],
   "source": [
    "DB1 = pd.read_csv(\"Credit_card.csv\")\n",
    "DB2 = pd.read_csv(\"Credit_card_label.csv\")"
   ]
  },
  {
   "cell_type": "code",
   "execution_count": 13,
   "id": "44f7ec01",
   "metadata": {
    "scrolled": true
   },
   "outputs": [
    {
     "data": {
      "text/html": [
       "<div>\n",
       "<style scoped>\n",
       "    .dataframe tbody tr th:only-of-type {\n",
       "        vertical-align: middle;\n",
       "    }\n",
       "\n",
       "    .dataframe tbody tr th {\n",
       "        vertical-align: top;\n",
       "    }\n",
       "\n",
       "    .dataframe thead th {\n",
       "        text-align: right;\n",
       "    }\n",
       "</style>\n",
       "<table border=\"1\" class=\"dataframe\">\n",
       "  <thead>\n",
       "    <tr style=\"text-align: right;\">\n",
       "      <th></th>\n",
       "      <th>Ind_ID</th>\n",
       "      <th>GENDER</th>\n",
       "      <th>Car_Owner</th>\n",
       "      <th>Propert_Owner</th>\n",
       "      <th>CHILDREN</th>\n",
       "      <th>Annual_income</th>\n",
       "      <th>Type_Income</th>\n",
       "      <th>EDUCATION</th>\n",
       "      <th>Marital_status</th>\n",
       "      <th>Housing_type</th>\n",
       "      <th>Birthday_count</th>\n",
       "      <th>Employed_days</th>\n",
       "      <th>Mobile_phone</th>\n",
       "      <th>Work_Phone</th>\n",
       "      <th>Phone</th>\n",
       "      <th>EMAIL_ID</th>\n",
       "      <th>Type_Occupation</th>\n",
       "      <th>Family_Members</th>\n",
       "    </tr>\n",
       "  </thead>\n",
       "  <tbody>\n",
       "    <tr>\n",
       "      <th>0</th>\n",
       "      <td>5008827</td>\n",
       "      <td>M</td>\n",
       "      <td>Y</td>\n",
       "      <td>Y</td>\n",
       "      <td>0</td>\n",
       "      <td>180000.0</td>\n",
       "      <td>Pensioner</td>\n",
       "      <td>Higher education</td>\n",
       "      <td>Married</td>\n",
       "      <td>House / apartment</td>\n",
       "      <td>-18772.0</td>\n",
       "      <td>365243</td>\n",
       "      <td>1</td>\n",
       "      <td>0</td>\n",
       "      <td>0</td>\n",
       "      <td>0</td>\n",
       "      <td>NaN</td>\n",
       "      <td>2</td>\n",
       "    </tr>\n",
       "    <tr>\n",
       "      <th>1</th>\n",
       "      <td>5009744</td>\n",
       "      <td>F</td>\n",
       "      <td>Y</td>\n",
       "      <td>N</td>\n",
       "      <td>0</td>\n",
       "      <td>315000.0</td>\n",
       "      <td>Commercial associate</td>\n",
       "      <td>Higher education</td>\n",
       "      <td>Married</td>\n",
       "      <td>House / apartment</td>\n",
       "      <td>-13557.0</td>\n",
       "      <td>-586</td>\n",
       "      <td>1</td>\n",
       "      <td>1</td>\n",
       "      <td>1</td>\n",
       "      <td>0</td>\n",
       "      <td>NaN</td>\n",
       "      <td>2</td>\n",
       "    </tr>\n",
       "    <tr>\n",
       "      <th>2</th>\n",
       "      <td>5009746</td>\n",
       "      <td>F</td>\n",
       "      <td>Y</td>\n",
       "      <td>N</td>\n",
       "      <td>0</td>\n",
       "      <td>315000.0</td>\n",
       "      <td>Commercial associate</td>\n",
       "      <td>Higher education</td>\n",
       "      <td>Married</td>\n",
       "      <td>House / apartment</td>\n",
       "      <td>NaN</td>\n",
       "      <td>-586</td>\n",
       "      <td>1</td>\n",
       "      <td>1</td>\n",
       "      <td>1</td>\n",
       "      <td>0</td>\n",
       "      <td>NaN</td>\n",
       "      <td>2</td>\n",
       "    </tr>\n",
       "    <tr>\n",
       "      <th>3</th>\n",
       "      <td>5009749</td>\n",
       "      <td>F</td>\n",
       "      <td>Y</td>\n",
       "      <td>N</td>\n",
       "      <td>0</td>\n",
       "      <td>NaN</td>\n",
       "      <td>Commercial associate</td>\n",
       "      <td>Higher education</td>\n",
       "      <td>Married</td>\n",
       "      <td>House / apartment</td>\n",
       "      <td>-13557.0</td>\n",
       "      <td>-586</td>\n",
       "      <td>1</td>\n",
       "      <td>1</td>\n",
       "      <td>1</td>\n",
       "      <td>0</td>\n",
       "      <td>NaN</td>\n",
       "      <td>2</td>\n",
       "    </tr>\n",
       "    <tr>\n",
       "      <th>4</th>\n",
       "      <td>5009752</td>\n",
       "      <td>F</td>\n",
       "      <td>Y</td>\n",
       "      <td>N</td>\n",
       "      <td>0</td>\n",
       "      <td>315000.0</td>\n",
       "      <td>Commercial associate</td>\n",
       "      <td>Higher education</td>\n",
       "      <td>Married</td>\n",
       "      <td>House / apartment</td>\n",
       "      <td>-13557.0</td>\n",
       "      <td>-586</td>\n",
       "      <td>1</td>\n",
       "      <td>1</td>\n",
       "      <td>1</td>\n",
       "      <td>0</td>\n",
       "      <td>NaN</td>\n",
       "      <td>2</td>\n",
       "    </tr>\n",
       "  </tbody>\n",
       "</table>\n",
       "</div>"
      ],
      "text/plain": [
       "    Ind_ID GENDER Car_Owner Propert_Owner  CHILDREN  Annual_income  \\\n",
       "0  5008827      M         Y             Y         0       180000.0   \n",
       "1  5009744      F         Y             N         0       315000.0   \n",
       "2  5009746      F         Y             N         0       315000.0   \n",
       "3  5009749      F         Y             N         0            NaN   \n",
       "4  5009752      F         Y             N         0       315000.0   \n",
       "\n",
       "            Type_Income         EDUCATION Marital_status       Housing_type  \\\n",
       "0             Pensioner  Higher education        Married  House / apartment   \n",
       "1  Commercial associate  Higher education        Married  House / apartment   \n",
       "2  Commercial associate  Higher education        Married  House / apartment   \n",
       "3  Commercial associate  Higher education        Married  House / apartment   \n",
       "4  Commercial associate  Higher education        Married  House / apartment   \n",
       "\n",
       "   Birthday_count  Employed_days  Mobile_phone  Work_Phone  Phone  EMAIL_ID  \\\n",
       "0        -18772.0         365243             1           0      0         0   \n",
       "1        -13557.0           -586             1           1      1         0   \n",
       "2             NaN           -586             1           1      1         0   \n",
       "3        -13557.0           -586             1           1      1         0   \n",
       "4        -13557.0           -586             1           1      1         0   \n",
       "\n",
       "  Type_Occupation  Family_Members  \n",
       "0             NaN               2  \n",
       "1             NaN               2  \n",
       "2             NaN               2  \n",
       "3             NaN               2  \n",
       "4             NaN               2  "
      ]
     },
     "execution_count": 13,
     "metadata": {},
     "output_type": "execute_result"
    }
   ],
   "source": [
    "DB1.head()"
   ]
  },
  {
   "cell_type": "code",
   "execution_count": 14,
   "id": "66f4f85e",
   "metadata": {},
   "outputs": [
    {
     "data": {
      "text/html": [
       "<div>\n",
       "<style scoped>\n",
       "    .dataframe tbody tr th:only-of-type {\n",
       "        vertical-align: middle;\n",
       "    }\n",
       "\n",
       "    .dataframe tbody tr th {\n",
       "        vertical-align: top;\n",
       "    }\n",
       "\n",
       "    .dataframe thead th {\n",
       "        text-align: right;\n",
       "    }\n",
       "</style>\n",
       "<table border=\"1\" class=\"dataframe\">\n",
       "  <thead>\n",
       "    <tr style=\"text-align: right;\">\n",
       "      <th></th>\n",
       "      <th>Ind_ID</th>\n",
       "      <th>label</th>\n",
       "    </tr>\n",
       "  </thead>\n",
       "  <tbody>\n",
       "    <tr>\n",
       "      <th>0</th>\n",
       "      <td>5008827</td>\n",
       "      <td>1</td>\n",
       "    </tr>\n",
       "    <tr>\n",
       "      <th>1</th>\n",
       "      <td>5009744</td>\n",
       "      <td>1</td>\n",
       "    </tr>\n",
       "    <tr>\n",
       "      <th>2</th>\n",
       "      <td>5009746</td>\n",
       "      <td>1</td>\n",
       "    </tr>\n",
       "    <tr>\n",
       "      <th>3</th>\n",
       "      <td>5009749</td>\n",
       "      <td>1</td>\n",
       "    </tr>\n",
       "    <tr>\n",
       "      <th>4</th>\n",
       "      <td>5009752</td>\n",
       "      <td>1</td>\n",
       "    </tr>\n",
       "  </tbody>\n",
       "</table>\n",
       "</div>"
      ],
      "text/plain": [
       "    Ind_ID  label\n",
       "0  5008827      1\n",
       "1  5009744      1\n",
       "2  5009746      1\n",
       "3  5009749      1\n",
       "4  5009752      1"
      ]
     },
     "execution_count": 14,
     "metadata": {},
     "output_type": "execute_result"
    }
   ],
   "source": [
    "DB2.head()"
   ]
  },
  {
   "cell_type": "code",
   "execution_count": 16,
   "id": "762a1ea0",
   "metadata": {},
   "outputs": [
    {
     "data": {
      "text/html": [
       "<div>\n",
       "<style scoped>\n",
       "    .dataframe tbody tr th:only-of-type {\n",
       "        vertical-align: middle;\n",
       "    }\n",
       "\n",
       "    .dataframe tbody tr th {\n",
       "        vertical-align: top;\n",
       "    }\n",
       "\n",
       "    .dataframe thead th {\n",
       "        text-align: right;\n",
       "    }\n",
       "</style>\n",
       "<table border=\"1\" class=\"dataframe\">\n",
       "  <thead>\n",
       "    <tr style=\"text-align: right;\">\n",
       "      <th></th>\n",
       "      <th>Ind_ID</th>\n",
       "      <th>GENDER</th>\n",
       "      <th>Car_Owner</th>\n",
       "      <th>Propert_Owner</th>\n",
       "      <th>CHILDREN</th>\n",
       "      <th>Annual_income</th>\n",
       "      <th>Type_Income</th>\n",
       "      <th>EDUCATION</th>\n",
       "      <th>Marital_status</th>\n",
       "      <th>Housing_type</th>\n",
       "      <th>Birthday_count</th>\n",
       "      <th>Employed_days</th>\n",
       "      <th>Mobile_phone</th>\n",
       "      <th>Work_Phone</th>\n",
       "      <th>Phone</th>\n",
       "      <th>EMAIL_ID</th>\n",
       "      <th>Type_Occupation</th>\n",
       "      <th>Family_Members</th>\n",
       "      <th>label</th>\n",
       "    </tr>\n",
       "  </thead>\n",
       "  <tbody>\n",
       "    <tr>\n",
       "      <th>0</th>\n",
       "      <td>5008827</td>\n",
       "      <td>M</td>\n",
       "      <td>Y</td>\n",
       "      <td>Y</td>\n",
       "      <td>0</td>\n",
       "      <td>180000.0</td>\n",
       "      <td>Pensioner</td>\n",
       "      <td>Higher education</td>\n",
       "      <td>Married</td>\n",
       "      <td>House / apartment</td>\n",
       "      <td>-18772.0</td>\n",
       "      <td>365243</td>\n",
       "      <td>1</td>\n",
       "      <td>0</td>\n",
       "      <td>0</td>\n",
       "      <td>0</td>\n",
       "      <td>NaN</td>\n",
       "      <td>2</td>\n",
       "      <td>1</td>\n",
       "    </tr>\n",
       "    <tr>\n",
       "      <th>1</th>\n",
       "      <td>5009744</td>\n",
       "      <td>F</td>\n",
       "      <td>Y</td>\n",
       "      <td>N</td>\n",
       "      <td>0</td>\n",
       "      <td>315000.0</td>\n",
       "      <td>Commercial associate</td>\n",
       "      <td>Higher education</td>\n",
       "      <td>Married</td>\n",
       "      <td>House / apartment</td>\n",
       "      <td>-13557.0</td>\n",
       "      <td>-586</td>\n",
       "      <td>1</td>\n",
       "      <td>1</td>\n",
       "      <td>1</td>\n",
       "      <td>0</td>\n",
       "      <td>NaN</td>\n",
       "      <td>2</td>\n",
       "      <td>1</td>\n",
       "    </tr>\n",
       "    <tr>\n",
       "      <th>2</th>\n",
       "      <td>5009746</td>\n",
       "      <td>F</td>\n",
       "      <td>Y</td>\n",
       "      <td>N</td>\n",
       "      <td>0</td>\n",
       "      <td>315000.0</td>\n",
       "      <td>Commercial associate</td>\n",
       "      <td>Higher education</td>\n",
       "      <td>Married</td>\n",
       "      <td>House / apartment</td>\n",
       "      <td>NaN</td>\n",
       "      <td>-586</td>\n",
       "      <td>1</td>\n",
       "      <td>1</td>\n",
       "      <td>1</td>\n",
       "      <td>0</td>\n",
       "      <td>NaN</td>\n",
       "      <td>2</td>\n",
       "      <td>1</td>\n",
       "    </tr>\n",
       "    <tr>\n",
       "      <th>3</th>\n",
       "      <td>5009749</td>\n",
       "      <td>F</td>\n",
       "      <td>Y</td>\n",
       "      <td>N</td>\n",
       "      <td>0</td>\n",
       "      <td>NaN</td>\n",
       "      <td>Commercial associate</td>\n",
       "      <td>Higher education</td>\n",
       "      <td>Married</td>\n",
       "      <td>House / apartment</td>\n",
       "      <td>-13557.0</td>\n",
       "      <td>-586</td>\n",
       "      <td>1</td>\n",
       "      <td>1</td>\n",
       "      <td>1</td>\n",
       "      <td>0</td>\n",
       "      <td>NaN</td>\n",
       "      <td>2</td>\n",
       "      <td>1</td>\n",
       "    </tr>\n",
       "    <tr>\n",
       "      <th>4</th>\n",
       "      <td>5009752</td>\n",
       "      <td>F</td>\n",
       "      <td>Y</td>\n",
       "      <td>N</td>\n",
       "      <td>0</td>\n",
       "      <td>315000.0</td>\n",
       "      <td>Commercial associate</td>\n",
       "      <td>Higher education</td>\n",
       "      <td>Married</td>\n",
       "      <td>House / apartment</td>\n",
       "      <td>-13557.0</td>\n",
       "      <td>-586</td>\n",
       "      <td>1</td>\n",
       "      <td>1</td>\n",
       "      <td>1</td>\n",
       "      <td>0</td>\n",
       "      <td>NaN</td>\n",
       "      <td>2</td>\n",
       "      <td>1</td>\n",
       "    </tr>\n",
       "  </tbody>\n",
       "</table>\n",
       "</div>"
      ],
      "text/plain": [
       "    Ind_ID GENDER Car_Owner Propert_Owner  CHILDREN  Annual_income  \\\n",
       "0  5008827      M         Y             Y         0       180000.0   \n",
       "1  5009744      F         Y             N         0       315000.0   \n",
       "2  5009746      F         Y             N         0       315000.0   \n",
       "3  5009749      F         Y             N         0            NaN   \n",
       "4  5009752      F         Y             N         0       315000.0   \n",
       "\n",
       "            Type_Income         EDUCATION Marital_status       Housing_type  \\\n",
       "0             Pensioner  Higher education        Married  House / apartment   \n",
       "1  Commercial associate  Higher education        Married  House / apartment   \n",
       "2  Commercial associate  Higher education        Married  House / apartment   \n",
       "3  Commercial associate  Higher education        Married  House / apartment   \n",
       "4  Commercial associate  Higher education        Married  House / apartment   \n",
       "\n",
       "   Birthday_count  Employed_days  Mobile_phone  Work_Phone  Phone  EMAIL_ID  \\\n",
       "0        -18772.0         365243             1           0      0         0   \n",
       "1        -13557.0           -586             1           1      1         0   \n",
       "2             NaN           -586             1           1      1         0   \n",
       "3        -13557.0           -586             1           1      1         0   \n",
       "4        -13557.0           -586             1           1      1         0   \n",
       "\n",
       "  Type_Occupation  Family_Members  label  \n",
       "0             NaN               2      1  \n",
       "1             NaN               2      1  \n",
       "2             NaN               2      1  \n",
       "3             NaN               2      1  \n",
       "4             NaN               2      1  "
      ]
     },
     "execution_count": 16,
     "metadata": {},
     "output_type": "execute_result"
    }
   ],
   "source": [
    "#Merging Dataset\n",
    "Credit = pd.merge(DB1, DB2, on='Ind_ID', how='outer')\n",
    "Credit.head()"
   ]
  },
  {
   "cell_type": "code",
   "execution_count": 17,
   "id": "f409fa10",
   "metadata": {},
   "outputs": [],
   "source": [
    "#Copying Data For safety purpose\n",
    "Credit_card = Credit.copy()"
   ]
  },
  {
   "cell_type": "code",
   "execution_count": 18,
   "id": "705fdba2",
   "metadata": {},
   "outputs": [
    {
     "data": {
      "text/plain": [
       "(1548, 19)"
      ]
     },
     "execution_count": 18,
     "metadata": {},
     "output_type": "execute_result"
    }
   ],
   "source": [
    "Credit_card.shape"
   ]
  },
  {
   "cell_type": "code",
   "execution_count": 19,
   "id": "e7ebe5d1",
   "metadata": {},
   "outputs": [
    {
     "data": {
      "text/plain": [
       "Ind_ID               0\n",
       "GENDER               7\n",
       "Car_Owner            0\n",
       "Propert_Owner        0\n",
       "CHILDREN             0\n",
       "Annual_income       23\n",
       "Type_Income          0\n",
       "EDUCATION            0\n",
       "Marital_status       0\n",
       "Housing_type         0\n",
       "Birthday_count      22\n",
       "Employed_days        0\n",
       "Mobile_phone         0\n",
       "Work_Phone           0\n",
       "Phone                0\n",
       "EMAIL_ID             0\n",
       "Type_Occupation    488\n",
       "Family_Members       0\n",
       "label                0\n",
       "dtype: int64"
      ]
     },
     "execution_count": 19,
     "metadata": {},
     "output_type": "execute_result"
    }
   ],
   "source": [
    "Credit_card.isnull().sum()"
   ]
  },
  {
   "cell_type": "code",
   "execution_count": 20,
   "id": "df03b23b",
   "metadata": {},
   "outputs": [
    {
     "data": {
      "text/html": [
       "<div>\n",
       "<style scoped>\n",
       "    .dataframe tbody tr th:only-of-type {\n",
       "        vertical-align: middle;\n",
       "    }\n",
       "\n",
       "    .dataframe tbody tr th {\n",
       "        vertical-align: top;\n",
       "    }\n",
       "\n",
       "    .dataframe thead th {\n",
       "        text-align: right;\n",
       "    }\n",
       "</style>\n",
       "<table border=\"1\" class=\"dataframe\">\n",
       "  <thead>\n",
       "    <tr style=\"text-align: right;\">\n",
       "      <th></th>\n",
       "      <th>Ind_ID</th>\n",
       "      <th>GENDER</th>\n",
       "      <th>Car_Owner</th>\n",
       "      <th>Propert_Owner</th>\n",
       "      <th>CHILDREN</th>\n",
       "      <th>Annual_income</th>\n",
       "      <th>Type_Income</th>\n",
       "      <th>EDUCATION</th>\n",
       "      <th>Marital_status</th>\n",
       "      <th>Housing_type</th>\n",
       "      <th>Birthday_count</th>\n",
       "      <th>Employed_days</th>\n",
       "      <th>Mobile_phone</th>\n",
       "      <th>Work_Phone</th>\n",
       "      <th>Phone</th>\n",
       "      <th>EMAIL_ID</th>\n",
       "      <th>Type_Occupation</th>\n",
       "      <th>Family_Members</th>\n",
       "      <th>label</th>\n",
       "    </tr>\n",
       "  </thead>\n",
       "  <tbody>\n",
       "    <tr>\n",
       "      <th>0</th>\n",
       "      <td>5008827</td>\n",
       "      <td>M</td>\n",
       "      <td>Y</td>\n",
       "      <td>Y</td>\n",
       "      <td>0</td>\n",
       "      <td>180000.0</td>\n",
       "      <td>Pensioner</td>\n",
       "      <td>Higher education</td>\n",
       "      <td>Married</td>\n",
       "      <td>House / apartment</td>\n",
       "      <td>-18772.0</td>\n",
       "      <td>365243</td>\n",
       "      <td>1</td>\n",
       "      <td>0</td>\n",
       "      <td>0</td>\n",
       "      <td>0</td>\n",
       "      <td>NaN</td>\n",
       "      <td>2</td>\n",
       "      <td>1</td>\n",
       "    </tr>\n",
       "    <tr>\n",
       "      <th>1</th>\n",
       "      <td>5009744</td>\n",
       "      <td>F</td>\n",
       "      <td>Y</td>\n",
       "      <td>N</td>\n",
       "      <td>0</td>\n",
       "      <td>315000.0</td>\n",
       "      <td>Commercial associate</td>\n",
       "      <td>Higher education</td>\n",
       "      <td>Married</td>\n",
       "      <td>House / apartment</td>\n",
       "      <td>-13557.0</td>\n",
       "      <td>-586</td>\n",
       "      <td>1</td>\n",
       "      <td>1</td>\n",
       "      <td>1</td>\n",
       "      <td>0</td>\n",
       "      <td>NaN</td>\n",
       "      <td>2</td>\n",
       "      <td>1</td>\n",
       "    </tr>\n",
       "    <tr>\n",
       "      <th>2</th>\n",
       "      <td>5009746</td>\n",
       "      <td>F</td>\n",
       "      <td>Y</td>\n",
       "      <td>N</td>\n",
       "      <td>0</td>\n",
       "      <td>315000.0</td>\n",
       "      <td>Commercial associate</td>\n",
       "      <td>Higher education</td>\n",
       "      <td>Married</td>\n",
       "      <td>House / apartment</td>\n",
       "      <td>NaN</td>\n",
       "      <td>-586</td>\n",
       "      <td>1</td>\n",
       "      <td>1</td>\n",
       "      <td>1</td>\n",
       "      <td>0</td>\n",
       "      <td>NaN</td>\n",
       "      <td>2</td>\n",
       "      <td>1</td>\n",
       "    </tr>\n",
       "    <tr>\n",
       "      <th>3</th>\n",
       "      <td>5009749</td>\n",
       "      <td>F</td>\n",
       "      <td>Y</td>\n",
       "      <td>N</td>\n",
       "      <td>0</td>\n",
       "      <td>NaN</td>\n",
       "      <td>Commercial associate</td>\n",
       "      <td>Higher education</td>\n",
       "      <td>Married</td>\n",
       "      <td>House / apartment</td>\n",
       "      <td>-13557.0</td>\n",
       "      <td>-586</td>\n",
       "      <td>1</td>\n",
       "      <td>1</td>\n",
       "      <td>1</td>\n",
       "      <td>0</td>\n",
       "      <td>NaN</td>\n",
       "      <td>2</td>\n",
       "      <td>1</td>\n",
       "    </tr>\n",
       "    <tr>\n",
       "      <th>4</th>\n",
       "      <td>5009752</td>\n",
       "      <td>F</td>\n",
       "      <td>Y</td>\n",
       "      <td>N</td>\n",
       "      <td>0</td>\n",
       "      <td>315000.0</td>\n",
       "      <td>Commercial associate</td>\n",
       "      <td>Higher education</td>\n",
       "      <td>Married</td>\n",
       "      <td>House / apartment</td>\n",
       "      <td>-13557.0</td>\n",
       "      <td>-586</td>\n",
       "      <td>1</td>\n",
       "      <td>1</td>\n",
       "      <td>1</td>\n",
       "      <td>0</td>\n",
       "      <td>NaN</td>\n",
       "      <td>2</td>\n",
       "      <td>1</td>\n",
       "    </tr>\n",
       "  </tbody>\n",
       "</table>\n",
       "</div>"
      ],
      "text/plain": [
       "    Ind_ID GENDER Car_Owner Propert_Owner  CHILDREN  Annual_income  \\\n",
       "0  5008827      M         Y             Y         0       180000.0   \n",
       "1  5009744      F         Y             N         0       315000.0   \n",
       "2  5009746      F         Y             N         0       315000.0   \n",
       "3  5009749      F         Y             N         0            NaN   \n",
       "4  5009752      F         Y             N         0       315000.0   \n",
       "\n",
       "            Type_Income         EDUCATION Marital_status       Housing_type  \\\n",
       "0             Pensioner  Higher education        Married  House / apartment   \n",
       "1  Commercial associate  Higher education        Married  House / apartment   \n",
       "2  Commercial associate  Higher education        Married  House / apartment   \n",
       "3  Commercial associate  Higher education        Married  House / apartment   \n",
       "4  Commercial associate  Higher education        Married  House / apartment   \n",
       "\n",
       "   Birthday_count  Employed_days  Mobile_phone  Work_Phone  Phone  EMAIL_ID  \\\n",
       "0        -18772.0         365243             1           0      0         0   \n",
       "1        -13557.0           -586             1           1      1         0   \n",
       "2             NaN           -586             1           1      1         0   \n",
       "3        -13557.0           -586             1           1      1         0   \n",
       "4        -13557.0           -586             1           1      1         0   \n",
       "\n",
       "  Type_Occupation  Family_Members  label  \n",
       "0             NaN               2      1  \n",
       "1             NaN               2      1  \n",
       "2             NaN               2      1  \n",
       "3             NaN               2      1  \n",
       "4             NaN               2      1  "
      ]
     },
     "execution_count": 20,
     "metadata": {},
     "output_type": "execute_result"
    }
   ],
   "source": [
    "Credit_card.head()"
   ]
  },
  {
   "cell_type": "code",
   "execution_count": 21,
   "id": "d94c0eb0",
   "metadata": {},
   "outputs": [
    {
     "name": "stdout",
     "output_type": "stream",
     "text": [
      "<class 'pandas.core.frame.DataFrame'>\n",
      "Int64Index: 1548 entries, 0 to 1547\n",
      "Data columns (total 19 columns):\n",
      " #   Column           Non-Null Count  Dtype  \n",
      "---  ------           --------------  -----  \n",
      " 0   Ind_ID           1548 non-null   int64  \n",
      " 1   GENDER           1541 non-null   object \n",
      " 2   Car_Owner        1548 non-null   object \n",
      " 3   Propert_Owner    1548 non-null   object \n",
      " 4   CHILDREN         1548 non-null   int64  \n",
      " 5   Annual_income    1525 non-null   float64\n",
      " 6   Type_Income      1548 non-null   object \n",
      " 7   EDUCATION        1548 non-null   object \n",
      " 8   Marital_status   1548 non-null   object \n",
      " 9   Housing_type     1548 non-null   object \n",
      " 10  Birthday_count   1526 non-null   float64\n",
      " 11  Employed_days    1548 non-null   int64  \n",
      " 12  Mobile_phone     1548 non-null   int64  \n",
      " 13  Work_Phone       1548 non-null   int64  \n",
      " 14  Phone            1548 non-null   int64  \n",
      " 15  EMAIL_ID         1548 non-null   int64  \n",
      " 16  Type_Occupation  1060 non-null   object \n",
      " 17  Family_Members   1548 non-null   int64  \n",
      " 18  label            1548 non-null   int64  \n",
      "dtypes: float64(2), int64(9), object(8)\n",
      "memory usage: 241.9+ KB\n"
     ]
    }
   ],
   "source": [
    "Credit_card.info()"
   ]
  },
  {
   "cell_type": "code",
   "execution_count": 22,
   "id": "821e82bb",
   "metadata": {},
   "outputs": [],
   "source": [
    "## It's noted that the variables \"Mobile_phone,\" \"Work_Phone,\" \"Phone,\" and \"EMAIL_ID\" are present in the dataset but \n",
    "## are deemed unnecessary for the analysis.\n",
    "\n",
    "Credit_card.drop(columns=['Mobile_phone','Work_Phone','Phone','EMAIL_ID'], inplace=True, axis=1)"
   ]
  },
  {
   "cell_type": "code",
   "execution_count": 23,
   "id": "b820581d",
   "metadata": {},
   "outputs": [
    {
     "data": {
      "text/plain": [
       "Index(['Ind_ID', 'GENDER', 'Car_Owner', 'Propert_Owner', 'CHILDREN',\n",
       "       'Annual_income', 'Type_Income', 'EDUCATION', 'Marital_status',\n",
       "       'Housing_type', 'Birthday_count', 'Employed_days', 'Type_Occupation',\n",
       "       'Family_Members', 'label'],\n",
       "      dtype='object')"
      ]
     },
     "execution_count": 23,
     "metadata": {},
     "output_type": "execute_result"
    }
   ],
   "source": [
    "Credit_card.columns"
   ]
  },
  {
   "cell_type": "code",
   "execution_count": 25,
   "id": "308a897e",
   "metadata": {},
   "outputs": [
    {
     "data": {
      "text/plain": [
       "0"
      ]
     },
     "execution_count": 25,
     "metadata": {},
     "output_type": "execute_result"
    }
   ],
   "source": [
    "Credit_card.duplicated().sum()"
   ]
  },
  {
   "cell_type": "code",
   "execution_count": 26,
   "id": "d2f9366b",
   "metadata": {},
   "outputs": [
    {
     "data": {
      "text/plain": [
       "Ind_ID             1548\n",
       "GENDER                2\n",
       "Car_Owner             2\n",
       "Propert_Owner         2\n",
       "CHILDREN              6\n",
       "Annual_income       115\n",
       "Type_Income           4\n",
       "EDUCATION             5\n",
       "Marital_status        5\n",
       "Housing_type          6\n",
       "Birthday_count     1270\n",
       "Employed_days       956\n",
       "Type_Occupation      18\n",
       "Family_Members        7\n",
       "label                 2\n",
       "dtype: int64"
      ]
     },
     "execution_count": 26,
     "metadata": {},
     "output_type": "execute_result"
    }
   ],
   "source": [
    "Credit_card.nunique() # To identify the number of unique values present in each variables"
   ]
  },
  {
   "cell_type": "code",
   "execution_count": 27,
   "id": "369cf42e",
   "metadata": {},
   "outputs": [
    {
     "data": {
      "text/html": [
       "<div>\n",
       "<style scoped>\n",
       "    .dataframe tbody tr th:only-of-type {\n",
       "        vertical-align: middle;\n",
       "    }\n",
       "\n",
       "    .dataframe tbody tr th {\n",
       "        vertical-align: top;\n",
       "    }\n",
       "\n",
       "    .dataframe thead th {\n",
       "        text-align: right;\n",
       "    }\n",
       "</style>\n",
       "<table border=\"1\" class=\"dataframe\">\n",
       "  <thead>\n",
       "    <tr style=\"text-align: right;\">\n",
       "      <th></th>\n",
       "      <th>count</th>\n",
       "      <th>unique</th>\n",
       "      <th>top</th>\n",
       "      <th>freq</th>\n",
       "      <th>mean</th>\n",
       "      <th>std</th>\n",
       "      <th>min</th>\n",
       "      <th>25%</th>\n",
       "      <th>50%</th>\n",
       "      <th>75%</th>\n",
       "      <th>max</th>\n",
       "    </tr>\n",
       "  </thead>\n",
       "  <tbody>\n",
       "    <tr>\n",
       "      <th>Ind_ID</th>\n",
       "      <td>1548.0</td>\n",
       "      <td>NaN</td>\n",
       "      <td>NaN</td>\n",
       "      <td>NaN</td>\n",
       "      <td>5078920.351421</td>\n",
       "      <td>41717.587742</td>\n",
       "      <td>5008827.0</td>\n",
       "      <td>5045069.75</td>\n",
       "      <td>5078841.5</td>\n",
       "      <td>5115673.0</td>\n",
       "      <td>5150412.0</td>\n",
       "    </tr>\n",
       "    <tr>\n",
       "      <th>GENDER</th>\n",
       "      <td>1541</td>\n",
       "      <td>2</td>\n",
       "      <td>F</td>\n",
       "      <td>973</td>\n",
       "      <td>NaN</td>\n",
       "      <td>NaN</td>\n",
       "      <td>NaN</td>\n",
       "      <td>NaN</td>\n",
       "      <td>NaN</td>\n",
       "      <td>NaN</td>\n",
       "      <td>NaN</td>\n",
       "    </tr>\n",
       "    <tr>\n",
       "      <th>Car_Owner</th>\n",
       "      <td>1548</td>\n",
       "      <td>2</td>\n",
       "      <td>N</td>\n",
       "      <td>924</td>\n",
       "      <td>NaN</td>\n",
       "      <td>NaN</td>\n",
       "      <td>NaN</td>\n",
       "      <td>NaN</td>\n",
       "      <td>NaN</td>\n",
       "      <td>NaN</td>\n",
       "      <td>NaN</td>\n",
       "    </tr>\n",
       "    <tr>\n",
       "      <th>Propert_Owner</th>\n",
       "      <td>1548</td>\n",
       "      <td>2</td>\n",
       "      <td>Y</td>\n",
       "      <td>1010</td>\n",
       "      <td>NaN</td>\n",
       "      <td>NaN</td>\n",
       "      <td>NaN</td>\n",
       "      <td>NaN</td>\n",
       "      <td>NaN</td>\n",
       "      <td>NaN</td>\n",
       "      <td>NaN</td>\n",
       "    </tr>\n",
       "    <tr>\n",
       "      <th>CHILDREN</th>\n",
       "      <td>1548.0</td>\n",
       "      <td>NaN</td>\n",
       "      <td>NaN</td>\n",
       "      <td>NaN</td>\n",
       "      <td>0.412791</td>\n",
       "      <td>0.776691</td>\n",
       "      <td>0.0</td>\n",
       "      <td>0.0</td>\n",
       "      <td>0.0</td>\n",
       "      <td>1.0</td>\n",
       "      <td>14.0</td>\n",
       "    </tr>\n",
       "    <tr>\n",
       "      <th>Annual_income</th>\n",
       "      <td>1525.0</td>\n",
       "      <td>NaN</td>\n",
       "      <td>NaN</td>\n",
       "      <td>NaN</td>\n",
       "      <td>191399.32623</td>\n",
       "      <td>113252.997656</td>\n",
       "      <td>33750.0</td>\n",
       "      <td>121500.0</td>\n",
       "      <td>166500.0</td>\n",
       "      <td>225000.0</td>\n",
       "      <td>1575000.0</td>\n",
       "    </tr>\n",
       "    <tr>\n",
       "      <th>Type_Income</th>\n",
       "      <td>1548</td>\n",
       "      <td>4</td>\n",
       "      <td>Working</td>\n",
       "      <td>798</td>\n",
       "      <td>NaN</td>\n",
       "      <td>NaN</td>\n",
       "      <td>NaN</td>\n",
       "      <td>NaN</td>\n",
       "      <td>NaN</td>\n",
       "      <td>NaN</td>\n",
       "      <td>NaN</td>\n",
       "    </tr>\n",
       "    <tr>\n",
       "      <th>EDUCATION</th>\n",
       "      <td>1548</td>\n",
       "      <td>5</td>\n",
       "      <td>Secondary / secondary special</td>\n",
       "      <td>1031</td>\n",
       "      <td>NaN</td>\n",
       "      <td>NaN</td>\n",
       "      <td>NaN</td>\n",
       "      <td>NaN</td>\n",
       "      <td>NaN</td>\n",
       "      <td>NaN</td>\n",
       "      <td>NaN</td>\n",
       "    </tr>\n",
       "    <tr>\n",
       "      <th>Marital_status</th>\n",
       "      <td>1548</td>\n",
       "      <td>5</td>\n",
       "      <td>Married</td>\n",
       "      <td>1049</td>\n",
       "      <td>NaN</td>\n",
       "      <td>NaN</td>\n",
       "      <td>NaN</td>\n",
       "      <td>NaN</td>\n",
       "      <td>NaN</td>\n",
       "      <td>NaN</td>\n",
       "      <td>NaN</td>\n",
       "    </tr>\n",
       "    <tr>\n",
       "      <th>Housing_type</th>\n",
       "      <td>1548</td>\n",
       "      <td>6</td>\n",
       "      <td>House / apartment</td>\n",
       "      <td>1380</td>\n",
       "      <td>NaN</td>\n",
       "      <td>NaN</td>\n",
       "      <td>NaN</td>\n",
       "      <td>NaN</td>\n",
       "      <td>NaN</td>\n",
       "      <td>NaN</td>\n",
       "      <td>NaN</td>\n",
       "    </tr>\n",
       "    <tr>\n",
       "      <th>Birthday_count</th>\n",
       "      <td>1526.0</td>\n",
       "      <td>NaN</td>\n",
       "      <td>NaN</td>\n",
       "      <td>NaN</td>\n",
       "      <td>-16040.342071</td>\n",
       "      <td>4229.503202</td>\n",
       "      <td>-24946.0</td>\n",
       "      <td>-19553.0</td>\n",
       "      <td>-15661.5</td>\n",
       "      <td>-12417.0</td>\n",
       "      <td>-7705.0</td>\n",
       "    </tr>\n",
       "    <tr>\n",
       "      <th>Employed_days</th>\n",
       "      <td>1548.0</td>\n",
       "      <td>NaN</td>\n",
       "      <td>NaN</td>\n",
       "      <td>NaN</td>\n",
       "      <td>59364.689922</td>\n",
       "      <td>137808.062701</td>\n",
       "      <td>-14887.0</td>\n",
       "      <td>-3174.5</td>\n",
       "      <td>-1565.0</td>\n",
       "      <td>-431.75</td>\n",
       "      <td>365243.0</td>\n",
       "    </tr>\n",
       "    <tr>\n",
       "      <th>Type_Occupation</th>\n",
       "      <td>1060</td>\n",
       "      <td>18</td>\n",
       "      <td>Laborers</td>\n",
       "      <td>268</td>\n",
       "      <td>NaN</td>\n",
       "      <td>NaN</td>\n",
       "      <td>NaN</td>\n",
       "      <td>NaN</td>\n",
       "      <td>NaN</td>\n",
       "      <td>NaN</td>\n",
       "      <td>NaN</td>\n",
       "    </tr>\n",
       "    <tr>\n",
       "      <th>Family_Members</th>\n",
       "      <td>1548.0</td>\n",
       "      <td>NaN</td>\n",
       "      <td>NaN</td>\n",
       "      <td>NaN</td>\n",
       "      <td>2.161499</td>\n",
       "      <td>0.947772</td>\n",
       "      <td>1.0</td>\n",
       "      <td>2.0</td>\n",
       "      <td>2.0</td>\n",
       "      <td>3.0</td>\n",
       "      <td>15.0</td>\n",
       "    </tr>\n",
       "    <tr>\n",
       "      <th>label</th>\n",
       "      <td>1548.0</td>\n",
       "      <td>NaN</td>\n",
       "      <td>NaN</td>\n",
       "      <td>NaN</td>\n",
       "      <td>0.113049</td>\n",
       "      <td>0.316755</td>\n",
       "      <td>0.0</td>\n",
       "      <td>0.0</td>\n",
       "      <td>0.0</td>\n",
       "      <td>0.0</td>\n",
       "      <td>1.0</td>\n",
       "    </tr>\n",
       "  </tbody>\n",
       "</table>\n",
       "</div>"
      ],
      "text/plain": [
       "                  count unique                            top  freq  \\\n",
       "Ind_ID           1548.0    NaN                            NaN   NaN   \n",
       "GENDER             1541      2                              F   973   \n",
       "Car_Owner          1548      2                              N   924   \n",
       "Propert_Owner      1548      2                              Y  1010   \n",
       "CHILDREN         1548.0    NaN                            NaN   NaN   \n",
       "Annual_income    1525.0    NaN                            NaN   NaN   \n",
       "Type_Income        1548      4                        Working   798   \n",
       "EDUCATION          1548      5  Secondary / secondary special  1031   \n",
       "Marital_status     1548      5                        Married  1049   \n",
       "Housing_type       1548      6              House / apartment  1380   \n",
       "Birthday_count   1526.0    NaN                            NaN   NaN   \n",
       "Employed_days    1548.0    NaN                            NaN   NaN   \n",
       "Type_Occupation    1060     18                       Laborers   268   \n",
       "Family_Members   1548.0    NaN                            NaN   NaN   \n",
       "label            1548.0    NaN                            NaN   NaN   \n",
       "\n",
       "                           mean            std        min         25%  \\\n",
       "Ind_ID           5078920.351421   41717.587742  5008827.0  5045069.75   \n",
       "GENDER                      NaN            NaN        NaN         NaN   \n",
       "Car_Owner                   NaN            NaN        NaN         NaN   \n",
       "Propert_Owner               NaN            NaN        NaN         NaN   \n",
       "CHILDREN               0.412791       0.776691        0.0         0.0   \n",
       "Annual_income      191399.32623  113252.997656    33750.0    121500.0   \n",
       "Type_Income                 NaN            NaN        NaN         NaN   \n",
       "EDUCATION                   NaN            NaN        NaN         NaN   \n",
       "Marital_status              NaN            NaN        NaN         NaN   \n",
       "Housing_type                NaN            NaN        NaN         NaN   \n",
       "Birthday_count    -16040.342071    4229.503202   -24946.0    -19553.0   \n",
       "Employed_days      59364.689922  137808.062701   -14887.0     -3174.5   \n",
       "Type_Occupation             NaN            NaN        NaN         NaN   \n",
       "Family_Members         2.161499       0.947772        1.0         2.0   \n",
       "label                  0.113049       0.316755        0.0         0.0   \n",
       "\n",
       "                       50%        75%        max  \n",
       "Ind_ID           5078841.5  5115673.0  5150412.0  \n",
       "GENDER                 NaN        NaN        NaN  \n",
       "Car_Owner              NaN        NaN        NaN  \n",
       "Propert_Owner          NaN        NaN        NaN  \n",
       "CHILDREN               0.0        1.0       14.0  \n",
       "Annual_income     166500.0   225000.0  1575000.0  \n",
       "Type_Income            NaN        NaN        NaN  \n",
       "EDUCATION              NaN        NaN        NaN  \n",
       "Marital_status         NaN        NaN        NaN  \n",
       "Housing_type           NaN        NaN        NaN  \n",
       "Birthday_count    -15661.5   -12417.0    -7705.0  \n",
       "Employed_days      -1565.0    -431.75   365243.0  \n",
       "Type_Occupation        NaN        NaN        NaN  \n",
       "Family_Members         2.0        3.0       15.0  \n",
       "label                  0.0        0.0        1.0  "
      ]
     },
     "execution_count": 27,
     "metadata": {},
     "output_type": "execute_result"
    }
   ],
   "source": [
    "Credit_card.describe(include = 'all').T"
   ]
  },
  {
   "cell_type": "code",
   "execution_count": 28,
   "id": "0995486a",
   "metadata": {},
   "outputs": [
    {
     "name": "stdout",
     "output_type": "stream",
     "text": [
      "Ind_ID\n",
      "[5008827 5009744 5009746 ... 5115992 5118219 5053790]\n",
      "-------------\n",
      "GENDER\n",
      "['M' 'F' nan]\n",
      "-------------\n",
      "Car_Owner\n",
      "['Y' 'N']\n",
      "-------------\n",
      "Propert_Owner\n",
      "['Y' 'N']\n",
      "-------------\n",
      "CHILDREN\n",
      "[ 0  1  2  4  3 14]\n",
      "-------------\n",
      "Annual_income\n",
      "[ 180000.   315000.        nan  450000.    90000.   472500.   270000.\n",
      "  126000.   202500.   157500.   112500.   540000.   292500.   135000.\n",
      "   76500.   215100.   225000.    67500.   171000.   103500.    99000.\n",
      "  391500.    65250.    72900.   360000.   256500.   675000.   247500.\n",
      "   85500.   121500.   130500.   211500.    81000.    72000.   148500.\n",
      "  162000.   195750.   585000.   216000.   306000.   108000.    63000.\n",
      "   45000.   337500.   131400.   117000.   445500.   234000.  1575000.\n",
      "  144000.    67050.    73350.   193500.   900000.    94500.   198000.\n",
      "   54000.   166500.   167400.   153000.   423000.   243000.   283500.\n",
      "  252000.   495000.   612000.    36000.   139500.   133650.   427500.\n",
      "  261000.   231750.    90900.    45900.   119250.    58500.   328500.\n",
      "  787500.   594000.   119700.    69372.    37800.   387000.   207000.\n",
      "  189000.   333000.   105750.   382500.   141750.    40500.   405000.\n",
      "   44550.   301500.   351000.   175500.   121900.5  238500.    33750.\n",
      "  116100.   297000.   630000.   418500.    83250.   173250.   274500.\n",
      "  115200.    56250.    95850.   185400.   810000.   184500.   165600.\n",
      "  114750.    47250.    49500.    69750. ]\n",
      "-------------\n",
      "Type_Income\n",
      "['Pensioner' 'Commercial associate' 'Working' 'State servant']\n",
      "-------------\n",
      "EDUCATION\n",
      "['Higher education' 'Secondary / secondary special' 'Lower secondary'\n",
      " 'Incomplete higher' 'Academic degree']\n",
      "-------------\n",
      "Marital_status\n",
      "['Married' 'Single / not married' 'Civil marriage' 'Separated' 'Widow']\n",
      "-------------\n",
      "Housing_type\n",
      "['House / apartment' 'With parents' 'Rented apartment'\n",
      " 'Municipal apartment' 'Co-op apartment' 'Office apartment']\n",
      "-------------\n",
      "Birthday_count\n",
      "[-18772. -13557.     nan ... -10229. -15292. -16601.]\n",
      "-------------\n",
      "Employed_days\n",
      "[365243   -586   -678  -1002   -913   -248  -2470  -1644  -4327  -1674\n",
      "  -1086   -925   -854   -185  -3350   -691  -4770  -2394   -384  -3647\n",
      "  -1546   -808  -1285   -855  -7369  -2269  -4114  -1161  -7288   -166\n",
      "   -866   -564  -3366  -2150  -1458  -8369   -508  -1567   -137  -3974\n",
      "  -1570  -2878   -140  -2576  -1905  -1724  -1328  -4987  -3496  -1394\n",
      "  -1265  -2531  -2105   -860   -217   -535  -6866   -584  -2227  -8161\n",
      "   -613   -606  -6944   -346  -1808  -3420   -863  -7413  -7553  -3931\n",
      "  -1039   -134   -622  -1595  -1626  -1868   -555  -1935   -931   -900\n",
      "  -4305   -499  -2418   -189  -1132  -1770   -919  -1081   -502  -2420\n",
      "  -1325  -6367  -2484   -341  -9422  -3054  -2987  -2128   -820   -141\n",
      "  -1692  -4686   -693   -567   -885  -2769  -1547  -3179  -5204  -3072\n",
      "   -320  -2469   -583   -834  -1085  -1399  -7310  -1748  -2479   -875\n",
      "  -2805  -2477  -1477  -1782   -431  -1416   -263  -2349   -412  -7068\n",
      "  -1787  -1345  -3717  -1048  -2667  -2606  -2135  -1534  -2311  -1323\n",
      "  -5061  -2213  -2152  -4509  -1552  -1569  -1679  -8684  -6337    -97\n",
      "  -1222   -531  -7591  -5639  -1776  -5498  -5880   -460  -4532  -3309\n",
      "  -3873   -344  -1923   -604  -1922  -1496   -708 -12332  -5209  -6273\n",
      "  -2722  -9363   -746  -1322  -3458   -158  -2457  -2811  -7018  -2026\n",
      "   -188  -2967  -3166  -5107  -1649  -3694  -3697  -4596  -5674  -1682\n",
      "   -196   -530  -1696  -2168 -13382  -1509  -1347  -1405   -227  -9975\n",
      "  -1505  -5084  -2905   -356  -1719  -3680   -962  -3000  -4275   -110\n",
      "  -2078  -8377  -4392   -126  -7640  -3153   -139  -4023  -4888 -14887\n",
      "  -3319  -1966   -200  -6123   -117  -2625  -1763  -3689  -3414  -2910\n",
      "  -3412  -1107  -8036  -3608   -101  -3231   -203  -1589  -3577   -735\n",
      "  -8737  -1617  -1591   -979   -422   -655  -3653  -1261  -7346  -5545\n",
      "  -3810  -1190  -3246  -7676  -1353  -3715  -1113   -992  -2289 -12621\n",
      "  -3643   -869  -2174  -5336  -3535  -4407   -453   -960  -4711  -1965\n",
      "  -2543  -1393  -2234  -1631  -1619  -5981  -2682  -3443  -2330   -413\n",
      "  -6645   -505   -201  -3273  -1462  -2609   -521  -1321  -2467   -716\n",
      "  -1632   -614  -1904   -351  -7260   -626  -6853   -458  -1628  -6094\n",
      "   -734   -657  -2700   -880   -157   -135  -1497  -1266   -515  -1023\n",
      "  -2129   -575  -3262   -430  -2207  -1866  -4568   -309   -578  -6908\n",
      "  -1931  -8033  -2257  -3776  -4583  -4404   -727  -3805  -2316  -1455\n",
      "  -5422   -581   -893  -1860  -6317  -1000  -4766  -2259  -1344  -4690\n",
      "  -8290  -2052  -5004   -923  -1193   -793  -5453    -88  -5495   -593\n",
      "  -4816  -1586  -2104  -1032  -9698  -1131  -1175  -8375  -2199  -1912\n",
      "   -926  -2499  -2654  -1174   -230  -2276  -2197  -2468 -11448   -932\n",
      "  -2956   -619  -3787  -1253  -3242   -298   -124  -4082  -1431  -5330\n",
      "  -1017  -1128  -3088  -1466  -1689  -3003  -4039   -588   -282  -4491\n",
      "  -1155  -1220  -1203   -712  -2844  -4031  -3322  -6693  -2760  -2532\n",
      "  -1646 -11542  -5408  -1374  -3092  -2993  -2379  -1281  -7804  -3002\n",
      "   -825  -2057  -1611   -652  -2537  -2331  -4710  -1191  -1162  -3900\n",
      "   -219   -223  -3034  -3329   -235  -3503  -1324  -3112  -2959   -234\n",
      "   -719  -2616  -4410  -1587  -1537  -1430  -1928  -2753   -867  -2134\n",
      "  -3232    -95  -3690  -9870  -4979  -3396   -461  -5206  -3173   -732\n",
      "   -432  -2102  -6583   -156  -5460  -2506  -3397  -3792  -3230  -2464\n",
      "  -3334  -3110  -2966  -2728  -4161  -7494  -4280  -5891  -1350   -609\n",
      "  -2381  -1613  -3533  -6218  -2874  -1654  -2433  -4534   -522   -798\n",
      "  -2620   -145   -663  -2299  -1812  -2589   -130  -5056   -796  -7341\n",
      "  -1130  -5436  -2368  -1889  -1315  -1678  -2939  -1616  -8405  -3476\n",
      "  -3453  -3769  -1359  -2990  -2321  -4267  -1386   -645   -886  -1823\n",
      "  -4965  -3716  -1557  -3761  -1981   -102   -288  -2147  -3929   -424\n",
      "  -1069  -2323  -3332   -553   -375  -6352  -1056  -1172  -4663  -5587\n",
      "  -1406  -8966  -6860  -1463   -561  -3661  -6764 -10600  -3999  -3960\n",
      "  -2065  -1205  -1135  -5190  -3720  -2633  -3272  -2500  -6033   -170\n",
      "   -278  -3062  -8157  -2653  -1953  -5457  -1997  -3435  -1504  -2696\n",
      " -13735   -132  -6621  -2481  -2818 -11906  -1077  -9258  -2277  -2422\n",
      "   -826  -2969  -2086  -1070  -8172   -701  -1384  -9447  -1160  -1952\n",
      "  -1354   -469   -563  -1526  -2092  -1749   -168  -4029  -4967  -3282\n",
      "   -339  -7979  -9683   -577  -2622   -976  -1994  -1563  -4523   -340\n",
      "  -6614  -1639  -3392  -3261  -3928  -5082  -3630  -3591  -1199  -4304\n",
      "  -2514  -2187  -7140    -96  -5176  -6761  -2356  -2908  -3333  -3596\n",
      "  -4606  -4030  -5246  -2906  -1915  -1267  -1256  -1721  -2317  -1518\n",
      "   -864  -7364  -1101  -2231  -1327   -355  -1934  -5179  -2326   -980\n",
      "  -1224  -7048  -2266    -73  -2661   -286  -8044   -523   -978   -795\n",
      "  -2351  -1114  -3760  -5145  -4119  -3641   -481  -4603   -888   -393\n",
      "  -1007 -10688  -2228  -8479  -2180  -1362  -1876  -2265 -11389  -4146\n",
      "  -5500  -5521   -658  -3695   -901  -1751  -3663  -3149  -1375   -183\n",
      "   -500   -489  -2450  -1539  -1556  -7095   -674  -2605  -1999  -4599\n",
      "  -6488  -1054   -745  -3505  -1585  -6904  -2530  -1420   -314  -2441\n",
      " -11884  -4520  -3289  -1495  -3504  -3093  -2417  -2554   -818  -9359\n",
      "  -1508 -10364  -4331  -2296  -2142  -3163  -3961  -2896  -1185  -1670\n",
      "  -3670  -1202  -4936   -596  -6648   -747  -1741  -1615  -1444  -2089\n",
      "   -397  -2592  -1618  -2822  -1600  -2558   -991  -2758  -2988  -2904\n",
      "  -3377  -3902  -3202   -671   -848   -552  -2559  -2361  -3854  -1182\n",
      "  -2384  -8230  -2493  -2362  -4034  -2143  -2393  -2565   -450  -5496\n",
      "  -2319   -191  -3506  -2865  -2339  -2072  -7013  -3008  -2932   -565\n",
      "  -1282  -3154  -1225  -2333  -1869 -11940  -3515  -3291   -407   -444\n",
      "   -226   -279  -1661   -896   -670  -2533  -7400  -3339  -1259   -265\n",
      "  -1870  -2540  -2978   -187   -477  -1436  -1978  -1133  -2985 -10758\n",
      "  -4288    -89  -6930  -1807  -3143  -3850  -4560   -785  -3570   -777\n",
      " -11451   -742  -5950   -464   -385  -2475  -2051  -3607  -2454  -7614\n",
      "  -2796   -642  -4004  -4917  -5622   -313  -1753  -5830  -1677  -3078\n",
      "  -3061   -625  -1381   -308  -5437   -218  -3195  -1198  -1473  -5483\n",
      "   -704 -12870  -5373  -7128  -2255  -5345  -3574   -164  -6226  -6678\n",
      "  -2024   -890  -6075  -1774   -686  -3229  -3455  -5454 -13010  -5507\n",
      "  -6640  -5488   -221   -127  -8760  -7718  -3123  -1652  -6879  -2673\n",
      "   -420  -1072  -5760  -1871  -1707  -1962  -1598  -1583  -7264   -536\n",
      "  -1313  -2512  -5673  -3380  -3944  -3654   -171  -1801  -1138  -1897\n",
      "  -2980  -1581  -6558  -4434   -210  -3032  -2389  -1467   -377 -10762\n",
      "  -2788  -3668  -2340  -9925   -918  -4219   -194  -3010   -370   -232\n",
      "   -285  -1830  -3853  -2866  -1022  -2423  -2545  -6230   -104  -2631\n",
      "   -367   -857  -4887   -433   -803  -3361  -1520  -5155  -5006  -2191\n",
      "  -1064   -828  -4874  -1217  -7557  -5334   -611  -5215   -438   -958\n",
      "  -3095  -2827  -3693  -2262   -195   -109  -5862  -1200  -1891  -4662\n",
      "  -2924  -1648  -3536  -2182  -1209  -2859]\n",
      "-------------\n",
      "Type_Occupation\n",
      "[nan 'Core staff' 'Cooking staff' 'Laborers' 'Sales staff' 'Accountants'\n",
      " 'High skill tech staff' 'Managers' 'Cleaning staff' 'Drivers'\n",
      " 'Low-skill Laborers' 'IT staff' 'Waiters/barmen staff' 'Security staff'\n",
      " 'Medicine staff' 'Private service staff' 'HR staff' 'Secretaries'\n",
      " 'Realty agents']\n",
      "-------------\n",
      "Family_Members\n",
      "[ 2  3  1  4  6  5 15]\n",
      "-------------\n",
      "label\n",
      "[1 0]\n",
      "-------------\n"
     ]
    }
   ],
   "source": [
    "for column in Credit_card.columns: # Creating a loop to view all the values present inside each variables\n",
    "    unique_values = Credit_card[column].unique()\n",
    "    print(column)\n",
    "    print(unique_values)\n",
    "    print(\"-------------\") #Creating space with '-' for easy understandable view"
   ]
  },
  {
   "cell_type": "markdown",
   "id": "d295f843",
   "metadata": {},
   "source": [
    "From the above information:\n",
    "\n",
    "1. Gender Column:- Contains null values.\n",
    "2. Children & Family Member Variables:- contains outlier need treatment or removal.\n",
    "3. Annual Income Column:- Missing values and floating-point format need attention.\n",
    "4. Education Column:- Simplify 'Secondary / secondary special' to 'Secondary education.'\n",
    "5. Marital Status Column:- Simplify 'Civil marriage' and 'Single / not married' to 'Married' and 'Unmarried.'\n",
    "6. Birthday_count & Employed_days Variables:- Inappropriate values; need to correct format and data type.\n",
    "\n",
    "These concise points outline the issues and suggested actions for our dataset."
   ]
  },
  {
   "cell_type": "code",
   "execution_count": 31,
   "id": "387a8035",
   "metadata": {},
   "outputs": [
    {
     "name": "stdout",
     "output_type": "stream",
     "text": [
      "0       51.0\n",
      "1       37.0\n",
      "2        NaN\n",
      "3       37.0\n",
      "4       37.0\n",
      "        ... \n",
      "1543    33.0\n",
      "1544    28.0\n",
      "1545    36.0\n",
      "1546    42.0\n",
      "1547    45.0\n",
      "Name: Birthday_count, Length: 1548, dtype: float64\n"
     ]
    }
   ],
   "source": [
    "for index, value in enumerate(Credit_card['Birthday_count']):\n",
    "    if value < 0:\n",
    "        age = round(value/365)*-1\n",
    "        Credit_card.at[index, 'Birthday_count'] = age\n",
    "print(Credit_card['Birthday_count'])"
   ]
  },
  {
   "cell_type": "code",
   "execution_count": 33,
   "id": "e207e38d",
   "metadata": {},
   "outputs": [
    {
     "name": "stdout",
     "output_type": "stream",
     "text": [
      "0       Unemployed\n",
      "1         Employed\n",
      "2         Employed\n",
      "3         Employed\n",
      "4         Employed\n",
      "           ...    \n",
      "1543      Employed\n",
      "1544      Employed\n",
      "1545      Employed\n",
      "1546      Employed\n",
      "1547      Employed\n",
      "Name: Employed_days, Length: 1548, dtype: object\n"
     ]
    }
   ],
   "source": [
    "for index, value in enumerate(Credit_card['Employed_days']):\n",
    "    if value < 0:\n",
    "        work = round(value)*-1\n",
    "        Credit_card.at[index, 'Employed_days'] = 'Employed'\n",
    "    else:\n",
    "        work = round(value)\n",
    "        Credit_card.at[index, 'Employed_days'] = 'Unemployed'\n",
    "print(Credit_card['Employed_days'])"
   ]
  },
  {
   "cell_type": "code",
   "execution_count": 35,
   "id": "2cdb9720",
   "metadata": {},
   "outputs": [
    {
     "name": "stdout",
     "output_type": "stream",
     "text": [
      "0          Higher education\n",
      "1          Higher education\n",
      "2          Higher education\n",
      "3          Higher education\n",
      "4          Higher education\n",
      "               ...         \n",
      "1543       Higher education\n",
      "1544      Incomplete higher\n",
      "1545       Higher education\n",
      "1546    Secondary education\n",
      "1547       Higher education\n",
      "Name: EDUCATION, Length: 1548, dtype: object\n"
     ]
    }
   ],
   "source": [
    "for index, value in enumerate(Credit_card['EDUCATION']):\n",
    "    if value == 'Secondary / secondary special' :\n",
    "        Credit_card.at[index, 'EDUCATION'] = 'Secondary education'\n",
    "print(Credit_card['EDUCATION'])"
   ]
  },
  {
   "cell_type": "code",
   "execution_count": 37,
   "id": "de36fc94",
   "metadata": {},
   "outputs": [
    {
     "name": "stdout",
     "output_type": "stream",
     "text": [
      "0         Married\n",
      "1         Married\n",
      "2         Married\n",
      "3         Married\n",
      "4         Married\n",
      "          ...    \n",
      "1543      Married\n",
      "1544    Unmarried\n",
      "1545      Married\n",
      "1546      Married\n",
      "1547      Married\n",
      "Name: Marital_status, Length: 1548, dtype: object\n"
     ]
    }
   ],
   "source": [
    "for index, value in enumerate(Credit_card['Marital_status']):\n",
    "    if value == 'Civil marriage' :\n",
    "        Credit_card.at[index, 'Marital_status'] = 'Married'\n",
    "    elif value == 'Single / not married' :\n",
    "        Credit_card.at[index, 'Marital_status'] = 'Unmarried'\n",
    "print(Credit_card['Marital_status'])"
   ]
  },
  {
   "cell_type": "code",
   "execution_count": 38,
   "id": "5fa2228d",
   "metadata": {},
   "outputs": [
    {
     "data": {
      "text/plain": [
       "Ind_ID               0\n",
       "GENDER               7\n",
       "Car_Owner            0\n",
       "Propert_Owner        0\n",
       "CHILDREN             0\n",
       "Annual_income       23\n",
       "Type_Income          0\n",
       "EDUCATION            0\n",
       "Marital_status       0\n",
       "Housing_type         0\n",
       "Birthday_count      22\n",
       "Employed_days        0\n",
       "Type_Occupation    488\n",
       "Family_Members       0\n",
       "label                0\n",
       "dtype: int64"
      ]
     },
     "execution_count": 38,
     "metadata": {},
     "output_type": "execute_result"
    }
   ],
   "source": [
    "Credit_card.isnull().sum()"
   ]
  },
  {
   "cell_type": "code",
   "execution_count": 51,
   "id": "565d5467",
   "metadata": {},
   "outputs": [],
   "source": [
    "credit1 = Credit_card.dropna(subset ='GENDER')"
   ]
  },
  {
   "cell_type": "code",
   "execution_count": 41,
   "id": "c828d84d",
   "metadata": {},
   "outputs": [],
   "source": [
    "Credit_card['Birthday_count'].fillna(Credit_card['Birthday_count'].median(), inplace = True)"
   ]
  },
  {
   "cell_type": "code",
   "execution_count": 42,
   "id": "012ebe48",
   "metadata": {},
   "outputs": [],
   "source": [
    "Credit_card['Birthday_count'] =Credit_card['Birthday_count'].astype(int)"
   ]
  },
  {
   "cell_type": "code",
   "execution_count": 44,
   "id": "152d2a14",
   "metadata": {},
   "outputs": [],
   "source": [
    "#Fill missing values in 'annual_income' column with the mean and round the values\n",
    "Credit_card['Annual_income'] = Credit_card['Annual_income'].fillna(Credit_card['Annual_income'].mean()).round()"
   ]
  },
  {
   "cell_type": "code",
   "execution_count": 45,
   "id": "9c6154bc",
   "metadata": {},
   "outputs": [],
   "source": [
    "Credit_card.drop(columns = 'Type_Occupation', inplace = True)"
   ]
  },
  {
   "cell_type": "code",
   "execution_count": 52,
   "id": "5f8a6b4a",
   "metadata": {},
   "outputs": [
    {
     "data": {
      "text/plain": [
       "Ind_ID            0\n",
       "GENDER            7\n",
       "Car_Owner         0\n",
       "Propert_Owner     0\n",
       "CHILDREN          0\n",
       "Annual_income     0\n",
       "Type_Income       0\n",
       "EDUCATION         0\n",
       "Marital_status    0\n",
       "Housing_type      0\n",
       "Birthday_count    0\n",
       "Employed_days     0\n",
       "Family_Members    0\n",
       "label             0\n",
       "dtype: int64"
      ]
     },
     "execution_count": 52,
     "metadata": {},
     "output_type": "execute_result"
    }
   ],
   "source": [
    "Credit_card.isnull().sum()"
   ]
  },
  {
   "cell_type": "code",
   "execution_count": 56,
   "id": "0e11cd7a",
   "metadata": {},
   "outputs": [
    {
     "data": {
      "image/png": "[encoded data removed]",
      "text/plain": [
       "<Figure size 1200x800 with 4 Axes>"
      ]
     },
     "metadata": {},
     "output_type": "display_data"
    }
   ],
   "source": [
    "#Checking for all the outliers for continious variable\n",
    "fig, axes = plt.subplots(nrows=2, ncols=2, figsize=(12, 8))\n",
    "\n",
    "#Boxplot for 'children'\n",
    "sns.boxplot(data=Credit_card['CHILDREN'], ax=axes[0, 0])\n",
    "axes[0, 0].set_title('CHILDREN')\n",
    "\n",
    "#Boxplot for 'annual_income'\n",
    "sns.boxplot(data=Credit_card['Annual_income'], ax=axes[0, 1])\n",
    "axes[0, 1].set_title('Annual Income')\n",
    "\n",
    "#Boxplot for 'age'\n",
    "sns.boxplot(data=Credit_card['Birthday_count'], ax=axes[1, 0])\n",
    "axes[1, 0].set_title('Birthday_count')\n",
    "\n",
    "#Boxplot for 'family_members'\n",
    "sns.boxplot(data=Credit_card['Family_Members'], ax=axes[1, 1])\n",
    "axes[1, 1].set_title('Family Size')\n",
    "\n",
    "plt.tight_layout()\n",
    "plt.show()"
   ]
  },
  {
   "cell_type": "code",
   "execution_count": 57,
   "id": "3ba87395",
   "metadata": {},
   "outputs": [],
   "source": [
    "credit = Credit_card.rename(columns = {'Ind_ID' : 'id','GENDER' : 'gender', 'Car_Owner': 'car_owner', 'Propert_Owner' : 'property_owner',\n",
    "                        'CHILDREN' : 'children', 'Annual_income' : 'annual_income' , 'Type_Income' : 'type_income',\n",
    "                        'EDUCATION': 'education', 'Marital_status' : 'marital_status','Housing_type': 'housing_type',\n",
    "                        'Birthday_count' : 'age', 'Employed_days' : 'employed_status', 'Type_Occupation' : 'type_occupation' ,\n",
    "                        'Family_Members' : 'family_size' , 'label' : 'approval_status'})"
   ]
  },
  {
   "cell_type": "markdown",
   "id": "b966cfdf",
   "metadata": {},
   "source": [
    "Now that all the variables are in lowercase, which enhances readability and ease of use, also made there specific variable name changes:\n",
    "\n",
    "\"Birthday_count\" has been renamed to \"age.\"\n",
    "\"Employed_days\" has been renamed to \"employed_status.\"\n",
    "\"Family_members\" has been renamed to \"family_size\"\n",
    "These changes have been implemented for better clarity and understanding of the dataset."
   ]
  },
  {
   "cell_type": "code",
   "execution_count": 58,
   "id": "a1ddefad",
   "metadata": {},
   "outputs": [],
   "source": [
    "#Dealing with outlier for 'children'\n",
    "Q1 = np.percentile(credit['children'], 25, interpolation='midpoint')\n",
    "Q3 = np.percentile(credit['children'], 75, interpolation='midpoint')\n",
    "IQR = Q3 - Q1\n",
    "low_lim = Q1 - 1.5 * IQR\n",
    "up_lim = Q3 + 1.5 * IQR\n",
    "credit['children'] = credit['children'].clip(lower=0, upper=2)\n",
    "\n",
    "#Dealing with outlier for 'family_members'\n",
    "Q1 = np.percentile(credit['family_size'], 25, interpolation='midpoint')\n",
    "Q3 = np.percentile(credit['family_size'], 75, interpolation='midpoint')\n",
    "IQR = Q3 - Q1\n",
    "low_lim = Q1 - 1.5 * IQR\n",
    "up_lim = Q3 + 1.5 * IQR\n",
    "credit['family_size'] = credit['family_size'].clip(lower=0, upper=4)\n",
    "\n",
    "#Dealing with outlier for 'annual_income'\n",
    "Q1 = np.percentile(credit['annual_income'], 25, interpolation='midpoint')\n",
    "Q3 = np.percentile(credit['annual_income'], 75, interpolation='midpoint')\n",
    "IQR = Q3 - Q1\n",
    "low_lim = Q1 - 1.5 * IQR\n",
    "up_lim = Q3 + 1.5 * IQR\n",
    "credit['annual_income'] = np.where(\n",
    "    (credit['annual_income'] < low_lim) | (credit['annual_income'] > up_lim),\n",
    "    up_lim,\n",
    "    credit['annual_income'])\n",
    "credit['annual_income'] = credit['annual_income'].astype(int)"
   ]
  },
  {
   "cell_type": "markdown",
   "id": "1c9fb2c2",
   "metadata": {},
   "source": [
    "I have removed all outliers from the \"Children,\" \"Family Size,\" and \"Annual Income\" columns in your dataset. This action can help ensure that your data is more representative and suitable for analysis or modeling."
   ]
  },
  {
   "cell_type": "code",
   "execution_count": 59,
   "id": "49b4d490",
   "metadata": {},
   "outputs": [
    {
     "data": {
      "image/png": "[encoded data removed]",
      "text/plain": [
       "<Figure size 1200x800 with 4 Axes>"
      ]
     },
     "metadata": {},
     "output_type": "display_data"
    }
   ],
   "source": [
    "fig, axes = plt.subplots(nrows=2, ncols=2, figsize=(12, 8))\n",
    "\n",
    "#Boxplot for 'children'\n",
    "sns.boxplot(data=credit['children'], ax=axes[0, 0])\n",
    "axes[0, 0].set_title('Children')\n",
    "\n",
    "#Boxplot for 'annual_income'\n",
    "sns.boxplot(data=credit['annual_income'], ax=axes[0, 1])\n",
    "axes[0, 1].set_title('Annual Income')\n",
    "\n",
    "#Boxplot for 'age'\n",
    "sns.boxplot(data=credit['age'], ax=axes[1, 0])\n",
    "axes[1, 0].set_title('Age')\n",
    "\n",
    "#Boxplot for 'family_members'\n",
    "sns.boxplot(data=credit['family_size'], ax=axes[1, 1])\n",
    "axes[1, 1].set_title('Family Members')\n",
    "\n",
    "plt.tight_layout()\n",
    "plt.show()"
   ]
  },
  {
   "cell_type": "code",
   "execution_count": 60,
   "id": "241b88cd",
   "metadata": {},
   "outputs": [
    {
     "data": {
      "text/html": [
       "<div>\n",
       "<style scoped>\n",
       "    .dataframe tbody tr th:only-of-type {\n",
       "        vertical-align: middle;\n",
       "    }\n",
       "\n",
       "    .dataframe tbody tr th {\n",
       "        vertical-align: top;\n",
       "    }\n",
       "\n",
       "    .dataframe thead th {\n",
       "        text-align: right;\n",
       "    }\n",
       "</style>\n",
       "<table border=\"1\" class=\"dataframe\">\n",
       "  <thead>\n",
       "    <tr style=\"text-align: right;\">\n",
       "      <th></th>\n",
       "      <th>count</th>\n",
       "      <th>unique</th>\n",
       "      <th>top</th>\n",
       "      <th>freq</th>\n",
       "      <th>mean</th>\n",
       "      <th>std</th>\n",
       "      <th>min</th>\n",
       "      <th>25%</th>\n",
       "      <th>50%</th>\n",
       "      <th>75%</th>\n",
       "      <th>max</th>\n",
       "    </tr>\n",
       "  </thead>\n",
       "  <tbody>\n",
       "    <tr>\n",
       "      <th>id</th>\n",
       "      <td>1548.0</td>\n",
       "      <td>NaN</td>\n",
       "      <td>NaN</td>\n",
       "      <td>NaN</td>\n",
       "      <td>5078920.351421</td>\n",
       "      <td>41717.587742</td>\n",
       "      <td>5008827.0</td>\n",
       "      <td>5045069.75</td>\n",
       "      <td>5078841.5</td>\n",
       "      <td>5115673.0</td>\n",
       "      <td>5150412.0</td>\n",
       "    </tr>\n",
       "    <tr>\n",
       "      <th>gender</th>\n",
       "      <td>1541</td>\n",
       "      <td>2</td>\n",
       "      <td>F</td>\n",
       "      <td>973</td>\n",
       "      <td>NaN</td>\n",
       "      <td>NaN</td>\n",
       "      <td>NaN</td>\n",
       "      <td>NaN</td>\n",
       "      <td>NaN</td>\n",
       "      <td>NaN</td>\n",
       "      <td>NaN</td>\n",
       "    </tr>\n",
       "    <tr>\n",
       "      <th>car_owner</th>\n",
       "      <td>1548</td>\n",
       "      <td>2</td>\n",
       "      <td>N</td>\n",
       "      <td>924</td>\n",
       "      <td>NaN</td>\n",
       "      <td>NaN</td>\n",
       "      <td>NaN</td>\n",
       "      <td>NaN</td>\n",
       "      <td>NaN</td>\n",
       "      <td>NaN</td>\n",
       "      <td>NaN</td>\n",
       "    </tr>\n",
       "    <tr>\n",
       "      <th>property_owner</th>\n",
       "      <td>1548</td>\n",
       "      <td>2</td>\n",
       "      <td>Y</td>\n",
       "      <td>1010</td>\n",
       "      <td>NaN</td>\n",
       "      <td>NaN</td>\n",
       "      <td>NaN</td>\n",
       "      <td>NaN</td>\n",
       "      <td>NaN</td>\n",
       "      <td>NaN</td>\n",
       "      <td>NaN</td>\n",
       "    </tr>\n",
       "    <tr>\n",
       "      <th>children</th>\n",
       "      <td>1548.0</td>\n",
       "      <td>NaN</td>\n",
       "      <td>NaN</td>\n",
       "      <td>NaN</td>\n",
       "      <td>0.393411</td>\n",
       "      <td>0.659774</td>\n",
       "      <td>0.0</td>\n",
       "      <td>0.0</td>\n",
       "      <td>0.0</td>\n",
       "      <td>1.0</td>\n",
       "      <td>2.0</td>\n",
       "    </tr>\n",
       "    <tr>\n",
       "      <th>annual_income</th>\n",
       "      <td>1548.0</td>\n",
       "      <td>NaN</td>\n",
       "      <td>NaN</td>\n",
       "      <td>NaN</td>\n",
       "      <td>184537.402455</td>\n",
       "      <td>82237.507253</td>\n",
       "      <td>33750.0</td>\n",
       "      <td>121500.0</td>\n",
       "      <td>171000.0</td>\n",
       "      <td>225000.0</td>\n",
       "      <td>380250.0</td>\n",
       "    </tr>\n",
       "    <tr>\n",
       "      <th>type_income</th>\n",
       "      <td>1548</td>\n",
       "      <td>4</td>\n",
       "      <td>Working</td>\n",
       "      <td>798</td>\n",
       "      <td>NaN</td>\n",
       "      <td>NaN</td>\n",
       "      <td>NaN</td>\n",
       "      <td>NaN</td>\n",
       "      <td>NaN</td>\n",
       "      <td>NaN</td>\n",
       "      <td>NaN</td>\n",
       "    </tr>\n",
       "    <tr>\n",
       "      <th>education</th>\n",
       "      <td>1548</td>\n",
       "      <td>5</td>\n",
       "      <td>Secondary education</td>\n",
       "      <td>1031</td>\n",
       "      <td>NaN</td>\n",
       "      <td>NaN</td>\n",
       "      <td>NaN</td>\n",
       "      <td>NaN</td>\n",
       "      <td>NaN</td>\n",
       "      <td>NaN</td>\n",
       "      <td>NaN</td>\n",
       "    </tr>\n",
       "    <tr>\n",
       "      <th>marital_status</th>\n",
       "      <td>1548</td>\n",
       "      <td>4</td>\n",
       "      <td>Married</td>\n",
       "      <td>1150</td>\n",
       "      <td>NaN</td>\n",
       "      <td>NaN</td>\n",
       "      <td>NaN</td>\n",
       "      <td>NaN</td>\n",
       "      <td>NaN</td>\n",
       "      <td>NaN</td>\n",
       "      <td>NaN</td>\n",
       "    </tr>\n",
       "    <tr>\n",
       "      <th>housing_type</th>\n",
       "      <td>1548</td>\n",
       "      <td>6</td>\n",
       "      <td>House / apartment</td>\n",
       "      <td>1380</td>\n",
       "      <td>NaN</td>\n",
       "      <td>NaN</td>\n",
       "      <td>NaN</td>\n",
       "      <td>NaN</td>\n",
       "      <td>NaN</td>\n",
       "      <td>NaN</td>\n",
       "      <td>NaN</td>\n",
       "    </tr>\n",
       "    <tr>\n",
       "      <th>age</th>\n",
       "      <td>1548.0</td>\n",
       "      <td>NaN</td>\n",
       "      <td>NaN</td>\n",
       "      <td>NaN</td>\n",
       "      <td>43.939276</td>\n",
       "      <td>11.521047</td>\n",
       "      <td>21.0</td>\n",
       "      <td>34.0</td>\n",
       "      <td>43.0</td>\n",
       "      <td>53.0</td>\n",
       "      <td>68.0</td>\n",
       "    </tr>\n",
       "    <tr>\n",
       "      <th>employed_status</th>\n",
       "      <td>1548</td>\n",
       "      <td>2</td>\n",
       "      <td>Employed</td>\n",
       "      <td>1287</td>\n",
       "      <td>NaN</td>\n",
       "      <td>NaN</td>\n",
       "      <td>NaN</td>\n",
       "      <td>NaN</td>\n",
       "      <td>NaN</td>\n",
       "      <td>NaN</td>\n",
       "      <td>NaN</td>\n",
       "    </tr>\n",
       "    <tr>\n",
       "      <th>family_size</th>\n",
       "      <td>1548.0</td>\n",
       "      <td>NaN</td>\n",
       "      <td>NaN</td>\n",
       "      <td>NaN</td>\n",
       "      <td>2.143411</td>\n",
       "      <td>0.860752</td>\n",
       "      <td>1.0</td>\n",
       "      <td>2.0</td>\n",
       "      <td>2.0</td>\n",
       "      <td>3.0</td>\n",
       "      <td>4.0</td>\n",
       "    </tr>\n",
       "    <tr>\n",
       "      <th>approval_status</th>\n",
       "      <td>1548.0</td>\n",
       "      <td>NaN</td>\n",
       "      <td>NaN</td>\n",
       "      <td>NaN</td>\n",
       "      <td>0.113049</td>\n",
       "      <td>0.316755</td>\n",
       "      <td>0.0</td>\n",
       "      <td>0.0</td>\n",
       "      <td>0.0</td>\n",
       "      <td>0.0</td>\n",
       "      <td>1.0</td>\n",
       "    </tr>\n",
       "  </tbody>\n",
       "</table>\n",
       "</div>"
      ],
      "text/plain": [
       "                  count unique                  top  freq            mean  \\\n",
       "id               1548.0    NaN                  NaN   NaN  5078920.351421   \n",
       "gender             1541      2                    F   973             NaN   \n",
       "car_owner          1548      2                    N   924             NaN   \n",
       "property_owner     1548      2                    Y  1010             NaN   \n",
       "children         1548.0    NaN                  NaN   NaN        0.393411   \n",
       "annual_income    1548.0    NaN                  NaN   NaN   184537.402455   \n",
       "type_income        1548      4              Working   798             NaN   \n",
       "education          1548      5  Secondary education  1031             NaN   \n",
       "marital_status     1548      4              Married  1150             NaN   \n",
       "housing_type       1548      6    House / apartment  1380             NaN   \n",
       "age              1548.0    NaN                  NaN   NaN       43.939276   \n",
       "employed_status    1548      2             Employed  1287             NaN   \n",
       "family_size      1548.0    NaN                  NaN   NaN        2.143411   \n",
       "approval_status  1548.0    NaN                  NaN   NaN        0.113049   \n",
       "\n",
       "                          std        min         25%        50%        75%  \\\n",
       "id               41717.587742  5008827.0  5045069.75  5078841.5  5115673.0   \n",
       "gender                    NaN        NaN         NaN        NaN        NaN   \n",
       "car_owner                 NaN        NaN         NaN        NaN        NaN   \n",
       "property_owner            NaN        NaN         NaN        NaN        NaN   \n",
       "children             0.659774        0.0         0.0        0.0        1.0   \n",
       "annual_income    82237.507253    33750.0    121500.0   171000.0   225000.0   \n",
       "type_income               NaN        NaN         NaN        NaN        NaN   \n",
       "education                 NaN        NaN         NaN        NaN        NaN   \n",
       "marital_status            NaN        NaN         NaN        NaN        NaN   \n",
       "housing_type              NaN        NaN         NaN        NaN        NaN   \n",
       "age                 11.521047       21.0        34.0       43.0       53.0   \n",
       "employed_status           NaN        NaN         NaN        NaN        NaN   \n",
       "family_size          0.860752        1.0         2.0        2.0        3.0   \n",
       "approval_status      0.316755        0.0         0.0        0.0        0.0   \n",
       "\n",
       "                       max  \n",
       "id               5150412.0  \n",
       "gender                 NaN  \n",
       "car_owner              NaN  \n",
       "property_owner         NaN  \n",
       "children               2.0  \n",
       "annual_income     380250.0  \n",
       "type_income            NaN  \n",
       "education              NaN  \n",
       "marital_status         NaN  \n",
       "housing_type           NaN  \n",
       "age                   68.0  \n",
       "employed_status        NaN  \n",
       "family_size            4.0  \n",
       "approval_status        1.0  "
      ]
     },
     "execution_count": 60,
     "metadata": {},
     "output_type": "execute_result"
    }
   ],
   "source": [
    "credit.describe(include = 'all').T"
   ]
  },
  {
   "cell_type": "code",
   "execution_count": 77,
   "id": "eb862ab8",
   "metadata": {},
   "outputs": [
    {
     "name": "stdout",
     "output_type": "stream",
     "text": [
      "Approval Status Total Counts:\n",
      "Approved        1373\n",
      "Not Approved     175\n",
      "Name: approval_status, dtype: int64\n"
     ]
    },
    {
     "data": {
      "application/vnd.plotly.v1+json": {
       "config": {
        "linkText": "Export to plot.ly",
        "plotlyServerURL": "https://plot.ly",
        "showLink": false
       },
       "data": [
        {
         "hole": 0.5,
         "hoverinfo": "label+value+text",
         "labels": [
          0,
          1
         ],
         "marker": {
          "colors": [
           "lightblue",
           "orange"
          ],
          "line": {
           "color": "black",
           "width": 1.5
          }
         },
         "rotation": 90,
         "text": [
          "Approved",
          "Not-Approved"
         ],
         "type": "pie",
         "values": [
          1373,
          175
         ]
        }
       ],
       "layout": {
        "template": {
         "data": {
          "bar": [
           {
            "error_x": {
             "color": "#2a3f5f"
            },
            "error_y": {
             "color": "#2a3f5f"
            },
            "marker": {
             "line": {
              "color": "#E5ECF6",
              "width": 0.5
             },
             "pattern": {
              "fillmode": "overlay",
              "size": 10,
              "solidity": 0.2
             }
            },
            "type": "bar"
           }
          ],
          "barpolar": [
           {
            "marker": {
             "line": {
              "color": "#E5ECF6",
              "width": 0.5
             },
             "pattern": {
              "fillmode": "overlay",
              "size": 10,
              "solidity": 0.2
             }
            },
            "type": "barpolar"
           }
          ],
          "carpet": [
           {
            "aaxis": {
             "endlinecolor": "#2a3f5f",
             "gridcolor": "white",
             "linecolor": "white",
             "minorgridcolor": "white",
             "startlinecolor": "#2a3f5f"
            },
            "baxis": {
             "endlinecolor": "#2a3f5f",
             "gridcolor": "white",
             "linecolor": "white",
             "minorgridcolor": "white",
             "startlinecolor": "#2a3f5f"
            },
            "type": "carpet"
           }
          ],
          "choropleth": [
           {
            "colorbar": {
             "outlinewidth": 0,
             "ticks": ""
            },
            "type": "choropleth"
           }
          ],
          "contour": [
           {
            "colorbar": {
             "outlinewidth": 0,
             "ticks": ""
            },
            "colorscale": [
             [
              0,
              "#0d0887"
             ],
             [
              0.1111111111111111,
              "#46039f"
             ],
             [
              0.2222222222222222,
              "#7201a8"
             ],
             [
              0.3333333333333333,
              "#9c179e"
             ],
             [
              0.4444444444444444,
              "#bd3786"
             ],
             [
              0.5555555555555556,
              "#d8576b"
             ],
             [
              0.6666666666666666,
              "#ed7953"
             ],
             [
              0.7777777777777778,
              "#fb9f3a"
             ],
             [
              0.8888888888888888,
              "#fdca26"
             ],
             [
              1,
              "#f0f921"
             ]
            ],
            "type": "contour"
           }
          ],
          "contourcarpet": [
           {
            "colorbar": {
             "outlinewidth": 0,
             "ticks": ""
            },
            "type": "contourcarpet"
           }
          ],
          "heatmap": [
           {
            "colorbar": {
             "outlinewidth": 0,
             "ticks": ""
            },
            "colorscale": [
             [
              0,
              "#0d0887"
             ],
             [
              0.1111111111111111,
              "#46039f"
             ],
             [
              0.2222222222222222,
              "#7201a8"
             ],
             [
              0.3333333333333333,
              "#9c179e"
             ],
             [
              0.4444444444444444,
              "#bd3786"
             ],
             [
              0.5555555555555556,
              "#d8576b"
             ],
             [
              0.6666666666666666,
              "#ed7953"
             ],
             [
              0.7777777777777778,
              "#fb9f3a"
             ],
             [
              0.8888888888888888,
              "#fdca26"
             ],
             [
              1,
              "#f0f921"
             ]
            ],
            "type": "heatmap"
           }
          ],
          "heatmapgl": [
           {
            "colorbar": {
             "outlinewidth": 0,
             "ticks": ""
            },
            "colorscale": [
             [
              0,
              "#0d0887"
             ],
             [
              0.1111111111111111,
              "#46039f"
             ],
             [
              0.2222222222222222,
              "#7201a8"
             ],
             [
              0.3333333333333333,
              "#9c179e"
             ],
             [
              0.4444444444444444,
              "#bd3786"
             ],
             [
              0.5555555555555556,
              "#d8576b"
             ],
             [
              0.6666666666666666,
              "#ed7953"
             ],
             [
              0.7777777777777778,
              "#fb9f3a"
             ],
             [
              0.8888888888888888,
              "#fdca26"
             ],
             [
              1,
              "#f0f921"
             ]
            ],
            "type": "heatmapgl"
           }
          ],
          "histogram": [
           {
            "marker": {
             "pattern": {
              "fillmode": "overlay",
              "size": 10,
              "solidity": 0.2
             }
            },
            "type": "histogram"
           }
          ],
          "histogram2d": [
           {
            "colorbar": {
             "outlinewidth": 0,
             "ticks": ""
            },
            "colorscale": [
             [
              0,
              "#0d0887"
             ],
             [
              0.1111111111111111,
              "#46039f"
             ],
             [
              0.2222222222222222,
              "#7201a8"
             ],
             [
              0.3333333333333333,
              "#9c179e"
             ],
             [
              0.4444444444444444,
              "#bd3786"
             ],
             [
              0.5555555555555556,
              "#d8576b"
             ],
             [
              0.6666666666666666,
              "#ed7953"
             ],
             [
              0.7777777777777778,
              "#fb9f3a"
             ],
             [
              0.8888888888888888,
              "#fdca26"
             ],
             [
              1,
              "#f0f921"
             ]
            ],
            "type": "histogram2d"
           }
          ],
          "histogram2dcontour": [
           {
            "colorbar": {
             "outlinewidth": 0,
             "ticks": ""
            },
            "colorscale": [
             [
              0,
              "#0d0887"
             ],
             [
              0.1111111111111111,
              "#46039f"
             ],
             [
              0.2222222222222222,
              "#7201a8"
             ],
             [
              0.3333333333333333,
              "#9c179e"
             ],
             [
              0.4444444444444444,
              "#bd3786"
             ],
             [
              0.5555555555555556,
              "#d8576b"
             ],
             [
              0.6666666666666666,
              "#ed7953"
             ],
             [
              0.7777777777777778,
              "#fb9f3a"
             ],
             [
              0.8888888888888888,
              "#fdca26"
             ],
             [
              1,
              "#f0f921"
             ]
            ],
            "type": "histogram2dcontour"
           }
          ],
          "mesh3d": [
           {
            "colorbar": {
             "outlinewidth": 0,
             "ticks": ""
            },
            "type": "mesh3d"
           }
          ],
          "parcoords": [
           {
            "line": {
             "colorbar": {
              "outlinewidth": 0,
              "ticks": ""
             }
            },
            "type": "parcoords"
           }
          ],
          "pie": [
           {
            "automargin": true,
            "type": "pie"
           }
          ],
          "scatter": [
           {
            "fillpattern": {
             "fillmode": "overlay",
             "size": 10,
             "solidity": 0.2
            },
            "type": "scatter"
           }
          ],
          "scatter3d": [
           {
            "line": {
             "colorbar": {
              "outlinewidth": 0,
              "ticks": ""
             }
            },
            "marker": {
             "colorbar": {
              "outlinewidth": 0,
              "ticks": ""
             }
            },
            "type": "scatter3d"
           }
          ],
          "scattercarpet": [
           {
            "marker": {
             "colorbar": {
              "outlinewidth": 0,
              "ticks": ""
             }
            },
            "type": "scattercarpet"
           }
          ],
          "scattergeo": [
           {
            "marker": {
             "colorbar": {
              "outlinewidth": 0,
              "ticks": ""
             }
            },
            "type": "scattergeo"
           }
          ],
          "scattergl": [
           {
            "marker": {
             "colorbar": {
              "outlinewidth": 0,
              "ticks": ""
             }
            },
            "type": "scattergl"
           }
          ],
          "scattermapbox": [
           {
            "marker": {
             "colorbar": {
              "outlinewidth": 0,
              "ticks": ""
             }
            },
            "type": "scattermapbox"
           }
          ],
          "scatterpolar": [
           {
            "marker": {
             "colorbar": {
              "outlinewidth": 0,
              "ticks": ""
             }
            },
            "type": "scatterpolar"
           }
          ],
          "scatterpolargl": [
           {
            "marker": {
             "colorbar": {
              "outlinewidth": 0,
              "ticks": ""
             }
            },
            "type": "scatterpolargl"
           }
          ],
          "scatterternary": [
           {
            "marker": {
             "colorbar": {
              "outlinewidth": 0,
              "ticks": ""
             }
            },
            "type": "scatterternary"
           }
          ],
          "surface": [
           {
            "colorbar": {
             "outlinewidth": 0,
             "ticks": ""
            },
            "colorscale": [
             [
              0,
              "#0d0887"
             ],
             [
              0.1111111111111111,
              "#46039f"
             ],
             [
              0.2222222222222222,
              "#7201a8"
             ],
             [
              0.3333333333333333,
              "#9c179e"
             ],
             [
              0.4444444444444444,
              "#bd3786"
             ],
             [
              0.5555555555555556,
              "#d8576b"
             ],
             [
              0.6666666666666666,
              "#ed7953"
             ],
             [
              0.7777777777777778,
              "#fb9f3a"
             ],
             [
              0.8888888888888888,
              "#fdca26"
             ],
             [
              1,
              "#f0f921"
             ]
            ],
            "type": "surface"
           }
          ],
          "table": [
           {
            "cells": {
             "fill": {
              "color": "#EBF0F8"
             },
             "line": {
              "color": "white"
             }
            },
            "header": {
             "fill": {
              "color": "#C8D4E3"
             },
             "line": {
              "color": "white"
             }
            },
            "type": "table"
           }
          ]
         },
         "layout": {
          "annotationdefaults": {
           "arrowcolor": "#2a3f5f",
           "arrowhead": 0,
           "arrowwidth": 1
          },
          "autotypenumbers": "strict",
          "coloraxis": {
           "colorbar": {
            "outlinewidth": 0,
            "ticks": ""
           }
          },
          "colorscale": {
           "diverging": [
            [
             0,
             "#8e0152"
            ],
            [
             0.1,
             "#c51b7d"
            ],
            [
             0.2,
             "#de77ae"
            ],
            [
             0.3,
             "#f1b6da"
            ],
            [
             0.4,
             "#fde0ef"
            ],
            [
             0.5,
             "#f7f7f7"
            ],
            [
             0.6,
             "#e6f5d0"
            ],
            [
             0.7,
             "#b8e186"
            ],
            [
             0.8,
             "#7fbc41"
            ],
            [
             0.9,
             "#4d9221"
            ],
            [
             1,
             "#276419"
            ]
           ],
           "sequential": [
            [
             0,
             "#0d0887"
            ],
            [
             0.1111111111111111,
             "#46039f"
            ],
            [
             0.2222222222222222,
             "#7201a8"
            ],
            [
             0.3333333333333333,
             "#9c179e"
            ],
            [
             0.4444444444444444,
             "#bd3786"
            ],
            [
             0.5555555555555556,
             "#d8576b"
            ],
            [
             0.6666666666666666,
             "#ed7953"
            ],
            [
             0.7777777777777778,
             "#fb9f3a"
            ],
            [
             0.8888888888888888,
             "#fdca26"
            ],
            [
             1,
             "#f0f921"
            ]
           ],
           "sequentialminus": [
            [
             0,
             "#0d0887"
            ],
            [
             0.1111111111111111,
             "#46039f"
            ],
            [
             0.2222222222222222,
             "#7201a8"
            ],
            [
             0.3333333333333333,
             "#9c179e"
            ],
            [
             0.4444444444444444,
             "#bd3786"
            ],
            [
             0.5555555555555556,
             "#d8576b"
            ],
            [
             0.6666666666666666,
             "#ed7953"
            ],
            [
             0.7777777777777778,
             "#fb9f3a"
            ],
            [
             0.8888888888888888,
             "#fdca26"
            ],
            [
             1,
             "#f0f921"
            ]
           ]
          },
          "colorway": [
           "#636efa",
           "#EF553B",
           "#00cc96",
           "#ab63fa",
           "#FFA15A",
           "#19d3f3",
           "#FF6692",
           "#B6E880",
           "#FF97FF",
           "#FECB52"
          ],
          "font": {
           "color": "#2a3f5f"
          },
          "geo": {
           "bgcolor": "white",
           "lakecolor": "white",
           "landcolor": "#E5ECF6",
           "showlakes": true,
           "showland": true,
           "subunitcolor": "white"
          },
          "hoverlabel": {
           "align": "left"
          },
          "hovermode": "closest",
          "mapbox": {
           "style": "light"
          },
          "paper_bgcolor": "white",
          "plot_bgcolor": "#E5ECF6",
          "polar": {
           "angularaxis": {
            "gridcolor": "white",
            "linecolor": "white",
            "ticks": ""
           },
           "bgcolor": "#E5ECF6",
           "radialaxis": {
            "gridcolor": "white",
            "linecolor": "white",
            "ticks": ""
           }
          },
          "scene": {
           "xaxis": {
            "backgroundcolor": "#E5ECF6",
            "gridcolor": "white",
            "gridwidth": 2,
            "linecolor": "white",
            "showbackground": true,
            "ticks": "",
            "zerolinecolor": "white"
           },
           "yaxis": {
            "backgroundcolor": "#E5ECF6",
            "gridcolor": "white",
            "gridwidth": 2,
            "linecolor": "white",
            "showbackground": true,
            "ticks": "",
            "zerolinecolor": "white"
           },
           "zaxis": {
            "backgroundcolor": "#E5ECF6",
            "gridcolor": "white",
            "gridwidth": 2,
            "linecolor": "white",
            "showbackground": true,
            "ticks": "",
            "zerolinecolor": "white"
           }
          },
          "shapedefaults": {
           "line": {
            "color": "#2a3f5f"
           }
          },
          "ternary": {
           "aaxis": {
            "gridcolor": "white",
            "linecolor": "white",
            "ticks": ""
           },
           "baxis": {
            "gridcolor": "white",
            "linecolor": "white",
            "ticks": ""
           },
           "bgcolor": "#E5ECF6",
           "caxis": {
            "gridcolor": "white",
            "linecolor": "white",
            "ticks": ""
           }
          },
          "title": {
           "x": 0.05
          },
          "xaxis": {
           "automargin": true,
           "gridcolor": "white",
           "linecolor": "white",
           "ticks": "",
           "title": {
            "standoff": 15
           },
           "zerolinecolor": "white",
           "zerolinewidth": 2
          },
          "yaxis": {
           "automargin": true,
           "gridcolor": "white",
           "linecolor": "white",
           "ticks": "",
           "title": {
            "standoff": 15
           },
           "zerolinecolor": "white",
           "zerolinewidth": 2
          }
         }
        }
       }
      },
      "text/html": [
       "<div>                            <div id=\"951078d2-a3a6-43be-9402-9cef88a08abf\" class=\"plotly-graph-div\" style=\"height:525px; width:100%;\"></div>            <script type=\"text/javascript\">                require([\"plotly\"], function(Plotly) {                    window.PLOTLYENV=window.PLOTLYENV || {};                                    if (document.getElementById(\"951078d2-a3a6-43be-9402-9cef88a08abf\")) {                    Plotly.newPlot(                        \"951078d2-a3a6-43be-9402-9cef88a08abf\",                        [{\"hole\":0.5,\"hoverinfo\":\"label+value+text\",\"labels\":[0,1],\"marker\":{\"colors\":[\"lightblue\",\"orange\"],\"line\":{\"color\":\"black\",\"width\":1.5}},\"rotation\":90,\"text\":[\"Approved\",\"Not-Approved\"],\"values\":[1373,175],\"type\":\"pie\"}],                        {\"template\":{\"data\":{\"barpolar\":[{\"marker\":{\"line\":{\"color\":\"#E5ECF6\",\"width\":0.5},\"pattern\":{\"fillmode\":\"overlay\",\"size\":10,\"solidity\":0.2}},\"type\":\"barpolar\"}],\"bar\":[{\"error_x\":{\"color\":\"#2a3f5f\"},\"error_y\":{\"color\":\"#2a3f5f\"},\"marker\":{\"line\":{\"color\":\"#E5ECF6\",\"width\":0.5},\"pattern\":{\"fillmode\":\"overlay\",\"size\":10,\"solidity\":0.2}},\"type\":\"bar\"}],\"carpet\":[{\"aaxis\":{\"endlinecolor\":\"#2a3f5f\",\"gridcolor\":\"white\",\"linecolor\":\"white\",\"minorgridcolor\":\"white\",\"startlinecolor\":\"#2a3f5f\"},\"baxis\":{\"endlinecolor\":\"#2a3f5f\",\"gridcolor\":\"white\",\"linecolor\":\"white\",\"minorgridcolor\":\"white\",\"startlinecolor\":\"#2a3f5f\"},\"type\":\"carpet\"}],\"choropleth\":[{\"colorbar\":{\"outlinewidth\":0,\"ticks\":\"\"},\"type\":\"choropleth\"}],\"contourcarpet\":[{\"colorbar\":{\"outlinewidth\":0,\"ticks\":\"\"},\"type\":\"contourcarpet\"}],\"contour\":[{\"colorbar\":{\"outlinewidth\":0,\"ticks\":\"\"},\"colorscale\":[[0.0,\"#0d0887\"],[0.1111111111111111,\"#46039f\"],[0.2222222222222222,\"#7201a8\"],[0.3333333333333333,\"#9c179e\"],[0.4444444444444444,\"#bd3786\"],[0.5555555555555556,\"#d8576b\"],[0.6666666666666666,\"#ed7953\"],[0.7777777777777778,\"#fb9f3a\"],[0.8888888888888888,\"#fdca26\"],[1.0,\"#f0f921\"]],\"type\":\"contour\"}],\"heatmapgl\":[{\"colorbar\":{\"outlinewidth\":0,\"ticks\":\"\"},\"colorscale\":[[0.0,\"#0d0887\"],[0.1111111111111111,\"#46039f\"],[0.2222222222222222,\"#7201a8\"],[0.3333333333333333,\"#9c179e\"],[0.4444444444444444,\"#bd3786\"],[0.5555555555555556,\"#d8576b\"],[0.6666666666666666,\"#ed7953\"],[0.7777777777777778,\"#fb9f3a\"],[0.8888888888888888,\"#fdca26\"],[1.0,\"#f0f921\"]],\"type\":\"heatmapgl\"}],\"heatmap\":[{\"colorbar\":{\"outlinewidth\":0,\"ticks\":\"\"},\"colorscale\":[[0.0,\"#0d0887\"],[0.1111111111111111,\"#46039f\"],[0.2222222222222222,\"#7201a8\"],[0.3333333333333333,\"#9c179e\"],[0.4444444444444444,\"#bd3786\"],[0.5555555555555556,\"#d8576b\"],[0.6666666666666666,\"#ed7953\"],[0.7777777777777778,\"#fb9f3a\"],[0.8888888888888888,\"#fdca26\"],[1.0,\"#f0f921\"]],\"type\":\"heatmap\"}],\"histogram2dcontour\":[{\"colorbar\":{\"outlinewidth\":0,\"ticks\":\"\"},\"colorscale\":[[0.0,\"#0d0887\"],[0.1111111111111111,\"#46039f\"],[0.2222222222222222,\"#7201a8\"],[0.3333333333333333,\"#9c179e\"],[0.4444444444444444,\"#bd3786\"],[0.5555555555555556,\"#d8576b\"],[0.6666666666666666,\"#ed7953\"],[0.7777777777777778,\"#fb9f3a\"],[0.8888888888888888,\"#fdca26\"],[1.0,\"#f0f921\"]],\"type\":\"histogram2dcontour\"}],\"histogram2d\":[{\"colorbar\":{\"outlinewidth\":0,\"ticks\":\"\"},\"colorscale\":[[0.0,\"#0d0887\"],[0.1111111111111111,\"#46039f\"],[0.2222222222222222,\"#7201a8\"],[0.3333333333333333,\"#9c179e\"],[0.4444444444444444,\"#bd3786\"],[0.5555555555555556,\"#d8576b\"],[0.6666666666666666,\"#ed7953\"],[0.7777777777777778,\"#fb9f3a\"],[0.8888888888888888,\"#fdca26\"],[1.0,\"#f0f921\"]],\"type\":\"histogram2d\"}],\"histogram\":[{\"marker\":{\"pattern\":{\"fillmode\":\"overlay\",\"size\":10,\"solidity\":0.2}},\"type\":\"histogram\"}],\"mesh3d\":[{\"colorbar\":{\"outlinewidth\":0,\"ticks\":\"\"},\"type\":\"mesh3d\"}],\"parcoords\":[{\"line\":{\"colorbar\":{\"outlinewidth\":0,\"ticks\":\"\"}},\"type\":\"parcoords\"}],\"pie\":[{\"automargin\":true,\"type\":\"pie\"}],\"scatter3d\":[{\"line\":{\"colorbar\":{\"outlinewidth\":0,\"ticks\":\"\"}},\"marker\":{\"colorbar\":{\"outlinewidth\":0,\"ticks\":\"\"}},\"type\":\"scatter3d\"}],\"scattercarpet\":[{\"marker\":{\"colorbar\":{\"outlinewidth\":0,\"ticks\":\"\"}},\"type\":\"scattercarpet\"}],\"scattergeo\":[{\"marker\":{\"colorbar\":{\"outlinewidth\":0,\"ticks\":\"\"}},\"type\":\"scattergeo\"}],\"scattergl\":[{\"marker\":{\"colorbar\":{\"outlinewidth\":0,\"ticks\":\"\"}},\"type\":\"scattergl\"}],\"scattermapbox\":[{\"marker\":{\"colorbar\":{\"outlinewidth\":0,\"ticks\":\"\"}},\"type\":\"scattermapbox\"}],\"scatterpolargl\":[{\"marker\":{\"colorbar\":{\"outlinewidth\":0,\"ticks\":\"\"}},\"type\":\"scatterpolargl\"}],\"scatterpolar\":[{\"marker\":{\"colorbar\":{\"outlinewidth\":0,\"ticks\":\"\"}},\"type\":\"scatterpolar\"}],\"scatter\":[{\"fillpattern\":{\"fillmode\":\"overlay\",\"size\":10,\"solidity\":0.2},\"type\":\"scatter\"}],\"scatterternary\":[{\"marker\":{\"colorbar\":{\"outlinewidth\":0,\"ticks\":\"\"}},\"type\":\"scatterternary\"}],\"surface\":[{\"colorbar\":{\"outlinewidth\":0,\"ticks\":\"\"},\"colorscale\":[[0.0,\"#0d0887\"],[0.1111111111111111,\"#46039f\"],[0.2222222222222222,\"#7201a8\"],[0.3333333333333333,\"#9c179e\"],[0.4444444444444444,\"#bd3786\"],[0.5555555555555556,\"#d8576b\"],[0.6666666666666666,\"#ed7953\"],[0.7777777777777778,\"#fb9f3a\"],[0.8888888888888888,\"#fdca26\"],[1.0,\"#f0f921\"]],\"type\":\"surface\"}],\"table\":[{\"cells\":{\"fill\":{\"color\":\"#EBF0F8\"},\"line\":{\"color\":\"white\"}},\"header\":{\"fill\":{\"color\":\"#C8D4E3\"},\"line\":{\"color\":\"white\"}},\"type\":\"table\"}]},\"layout\":{\"annotationdefaults\":{\"arrowcolor\":\"#2a3f5f\",\"arrowhead\":0,\"arrowwidth\":1},\"autotypenumbers\":\"strict\",\"coloraxis\":{\"colorbar\":{\"outlinewidth\":0,\"ticks\":\"\"}},\"colorscale\":{\"diverging\":[[0,\"#8e0152\"],[0.1,\"#c51b7d\"],[0.2,\"#de77ae\"],[0.3,\"#f1b6da\"],[0.4,\"#fde0ef\"],[0.5,\"#f7f7f7\"],[0.6,\"#e6f5d0\"],[0.7,\"#b8e186\"],[0.8,\"#7fbc41\"],[0.9,\"#4d9221\"],[1,\"#276419\"]],\"sequential\":[[0.0,\"#0d0887\"],[0.1111111111111111,\"#46039f\"],[0.2222222222222222,\"#7201a8\"],[0.3333333333333333,\"#9c179e\"],[0.4444444444444444,\"#bd3786\"],[0.5555555555555556,\"#d8576b\"],[0.6666666666666666,\"#ed7953\"],[0.7777777777777778,\"#fb9f3a\"],[0.8888888888888888,\"#fdca26\"],[1.0,\"#f0f921\"]],\"sequentialminus\":[[0.0,\"#0d0887\"],[0.1111111111111111,\"#46039f\"],[0.2222222222222222,\"#7201a8\"],[0.3333333333333333,\"#9c179e\"],[0.4444444444444444,\"#bd3786\"],[0.5555555555555556,\"#d8576b\"],[0.6666666666666666,\"#ed7953\"],[0.7777777777777778,\"#fb9f3a\"],[0.8888888888888888,\"#fdca26\"],[1.0,\"#f0f921\"]]},\"colorway\":[\"#636efa\",\"#EF553B\",\"#00cc96\",\"#ab63fa\",\"#FFA15A\",\"#19d3f3\",\"#FF6692\",\"#B6E880\",\"#FF97FF\",\"#FECB52\"],\"font\":{\"color\":\"#2a3f5f\"},\"geo\":{\"bgcolor\":\"white\",\"lakecolor\":\"white\",\"landcolor\":\"#E5ECF6\",\"showlakes\":true,\"showland\":true,\"subunitcolor\":\"white\"},\"hoverlabel\":{\"align\":\"left\"},\"hovermode\":\"closest\",\"mapbox\":{\"style\":\"light\"},\"paper_bgcolor\":\"white\",\"plot_bgcolor\":\"#E5ECF6\",\"polar\":{\"angularaxis\":{\"gridcolor\":\"white\",\"linecolor\":\"white\",\"ticks\":\"\"},\"bgcolor\":\"#E5ECF6\",\"radialaxis\":{\"gridcolor\":\"white\",\"linecolor\":\"white\",\"ticks\":\"\"}},\"scene\":{\"xaxis\":{\"backgroundcolor\":\"#E5ECF6\",\"gridcolor\":\"white\",\"gridwidth\":2,\"linecolor\":\"white\",\"showbackground\":true,\"ticks\":\"\",\"zerolinecolor\":\"white\"},\"yaxis\":{\"backgroundcolor\":\"#E5ECF6\",\"gridcolor\":\"white\",\"gridwidth\":2,\"linecolor\":\"white\",\"showbackground\":true,\"ticks\":\"\",\"zerolinecolor\":\"white\"},\"zaxis\":{\"backgroundcolor\":\"#E5ECF6\",\"gridcolor\":\"white\",\"gridwidth\":2,\"linecolor\":\"white\",\"showbackground\":true,\"ticks\":\"\",\"zerolinecolor\":\"white\"}},\"shapedefaults\":{\"line\":{\"color\":\"#2a3f5f\"}},\"ternary\":{\"aaxis\":{\"gridcolor\":\"white\",\"linecolor\":\"white\",\"ticks\":\"\"},\"baxis\":{\"gridcolor\":\"white\",\"linecolor\":\"white\",\"ticks\":\"\"},\"bgcolor\":\"#E5ECF6\",\"caxis\":{\"gridcolor\":\"white\",\"linecolor\":\"white\",\"ticks\":\"\"}},\"title\":{\"x\":0.05},\"xaxis\":{\"automargin\":true,\"gridcolor\":\"white\",\"linecolor\":\"white\",\"ticks\":\"\",\"title\":{\"standoff\":15},\"zerolinecolor\":\"white\",\"zerolinewidth\":2},\"yaxis\":{\"automargin\":true,\"gridcolor\":\"white\",\"linecolor\":\"white\",\"ticks\":\"\",\"title\":{\"standoff\":15},\"zerolinecolor\":\"white\",\"zerolinewidth\":2}}}},                        {\"responsive\": true}                    ).then(function(){\n",
       "                            \n",
       "var gd = document.getElementById('951078d2-a3a6-43be-9402-9cef88a08abf');\n",
       "var x = new MutationObserver(function (mutations, observer) {{\n",
       "        var display = window.getComputedStyle(gd).display;\n",
       "        if (!display || display === 'none') {{\n",
       "            console.log([gd, 'removed!']);\n",
       "            Plotly.purge(gd);\n",
       "            observer.disconnect();\n",
       "        }}\n",
       "}});\n",
       "\n",
       "// Listen for the removal of the full notebook cells\n",
       "var notebookContainer = gd.closest('#notebook-container');\n",
       "if (notebookContainer) {{\n",
       "    x.observe(notebookContainer, {childList: true});\n",
       "}}\n",
       "\n",
       "// Listen for the clearing of the current output cell\n",
       "var outputEl = gd.closest('.output');\n",
       "if (outputEl) {{\n",
       "    x.observe(outputEl, {childList: true});\n",
       "}}\n",
       "\n",
       "                        })                };                });            </script>        </div>"
      ]
     },
     "metadata": {},
     "output_type": "display_data"
    }
   ],
   "source": [
    "df = credit['approval_status'].replace({0 : 'Approved', 1 : 'Not Approved'}).value_counts()\n",
    "print(\"Approval Status Total Counts:\")\n",
    "print(df)\n",
    "\n",
    "# Visualizing the total approved and not approved applicants\n",
    "\n",
    "approval_labels = credit['approval_status'].value_counts().keys().tolist()\n",
    "approval_values = credit['approval_status'].value_counts().values.tolist()\n",
    "custom_legends = ['Approved', 'Not-Approved']  # Custom legends for 0 and 1\n",
    "plot_data = [go.Pie(labels=approval_labels,\n",
    "                    values=approval_values,\n",
    "                    marker=dict(colors=['lightblue','orange'], line=dict(color=\"black\",width=1.5)),\n",
    "                    rotation=90,\n",
    "                    hoverinfo=\"label+value+text\",\n",
    "                    hole= 0.5,\n",
    "                    text= custom_legends)]\n",
    "\n",
    "fig = go.Figure(data=plot_data)\n",
    "po.iplot(fig)"
   ]
  },
  {
   "cell_type": "markdown",
   "id": "b7a1f65c",
   "metadata": {},
   "source": [
    "It is evident from the dataset that approximately 89% of the candidates who applied for the credit card were granted approval, while the remaining 11% did not receive approval."
   ]
  },
  {
   "cell_type": "code",
   "execution_count": 83,
   "id": "6db12b02",
   "metadata": {},
   "outputs": [
    {
     "name": "stdout",
     "output_type": "stream",
     "text": [
      "-------------------------------\n",
      "Employed status and approval Status:\n",
      "approval_status     0    1   All\n",
      "employed_status                 \n",
      "Employed         1147  140  1287\n",
      "Unemployed        226   35   261\n",
      "All              1373  175  1548\n",
      "-------------------------------\n",
      "\n"
     ]
    },
    {
     "data": {
      "image/png": "[encoded data removed]",
      "text/plain": [
       "<Figure size 800x500 with 1 Axes>"
      ]
     },
     "metadata": {},
     "output_type": "display_data"
    }
   ],
   "source": [
    "# Visualizing the employment status with respect to approval status\n",
    "\n",
    "employed_approval = pd.crosstab(credit['employed_status'], credit['approval_status'], margins=True)\n",
    "print(\"-------------------------------\")\n",
    "print(\"Employed status and approval Status:\")\n",
    "print(employed_approval)\n",
    "print(\"-------------------------------\\n\")\n",
    "plt.figure(figsize=(8,5))\n",
    "sns.countplot(data=credit, x='employed_status',  hue='approval_status', palette='Set2')\n",
    "plt.title(\"Relationship between Employed status and Approval Status\")\n",
    "plt.xlabel(\"Employed status\")\n",
    "plt.ylabel(\"Count\")\n",
    "plt.legend(title='Approval Status', labels=['Rejected', 'Approved'])\n",
    "plt.xticks(rotation=0)\n",
    "plt.show()"
   ]
  },
  {
   "cell_type": "code",
   "execution_count": 84,
   "id": "2df65626",
   "metadata": {},
   "outputs": [
    {
     "data": {
      "image/png": "[encoded data removed]",
      "text/plain": [
       "<Figure size 1000x600 with 2 Axes>"
      ]
     },
     "metadata": {},
     "output_type": "display_data"
    }
   ],
   "source": [
    "# Creating Heatmap to Visualize the relationship\n",
    "\n",
    "correlation_columns = ['children', 'annual_income', 'family_size', 'approval_status']\n",
    "correlation_df = credit[correlation_columns]\n",
    "correlation_matrix = correlation_df.corr()\n",
    "\n",
    "\n",
    "plt.figure(figsize=(10, 6))\n",
    "sns.heatmap(correlation_matrix, annot=True, cmap='coolwarm', fmt=\".2f\")\n",
    "plt.title(\"Correlation Heatmap\")\n",
    "plt.show()"
   ]
  },
  {
   "cell_type": "code",
   "execution_count": 69,
   "id": "06787a7c",
   "metadata": {},
   "outputs": [
    {
     "data": {
      "image/png": "[encoded data removed]",
      "text/plain": [
       "<Figure size 1200x600 with 1 Axes>"
      ]
     },
     "metadata": {},
     "output_type": "display_data"
    }
   ],
   "source": [
    "# Visualizing the income distribution\n",
    "\n",
    "plt.figure(figsize=(12, 6))\n",
    "sns.histplot(data=credit, x='annual_income', bins=20, kde=True, hue='approval_status', palette='Set2')\n",
    "plt.title('Income Distribution by Approval Status')\n",
    "plt.xlabel('Income')\n",
    "plt.ylabel('Count')\n",
    "plt.legend(title='Approval Status', labels=['Approved', 'Not Approved'])\n",
    "plt.show()"
   ]
  },
  {
   "cell_type": "code",
   "execution_count": 85,
   "id": "b9ea1e36",
   "metadata": {},
   "outputs": [
    {
     "data": {
      "image/png": "[encoded data removed]",
      "text/plain": [
       "<Figure size 1000x600 with 1 Axes>"
      ]
     },
     "metadata": {},
     "output_type": "display_data"
    }
   ],
   "source": [
    "# Visualizing the Family size distribution by approval status\n",
    "\n",
    "approved_family_size = credit[credit['approval_status'] == 1]['family_size']\n",
    "not_approved_family_size = credit[credit['approval_status'] == 0]['family_size']\n",
    "plt.figure(figsize=(10, 6))\n",
    "sns.kdeplot(approved_family_size, label='Approved', shade=True)\n",
    "sns.kdeplot(not_approved_family_size, label='Not Approved', shade=True)\n",
    "plt.title('Family Size Distribution by Approval Status')\n",
    "plt.xlabel('Family Size')\n",
    "plt.ylabel('Density')\n",
    "plt.legend()\n",
    "plt.show()"
   ]
  },
  {
   "cell_type": "code",
   "execution_count": 86,
   "id": "d0c9ed59",
   "metadata": {},
   "outputs": [
    {
     "name": "stdout",
     "output_type": "stream",
     "text": [
      "-------------------------------\n",
      "Children and approval Status:\n",
      "approval_status     0    1   All\n",
      "children                        \n",
      "0                 965  126  1091\n",
      "1                 269   36   305\n",
      "2                 139   13   152\n",
      "All              1373  175  1548\n",
      "-------------------------------\n",
      "\n"
     ]
    },
    {
     "data": {
      "image/png": "[encoded data removed]",
      "text/plain": [
       "<Figure size 1000x600 with 1 Axes>"
      ]
     },
     "metadata": {},
     "output_type": "display_data"
    }
   ],
   "source": [
    "# Visualizing relationship between Children and Approval Status\n",
    "children_approval = pd.crosstab(credit['children'], credit['approval_status'], margins=True)\n",
    "print(\"-------------------------------\")\n",
    "print(\"Children and approval Status:\")\n",
    "print(children_approval)\n",
    "print(\"-------------------------------\\n\")\n",
    "plt.figure(figsize=(10, 6))\n",
    "sns.countplot(x='children', hue='approval_status', data=credit, palette='Set1')\n",
    "plt.title('Approval Status by Number of Children')\n",
    "plt.xlabel('Number of Children')\n",
    "plt.ylabel('Count')\n",
    "plt.legend(title='Approval Status', labels=['Not Approved', 'Approved'])\n",
    "plt.show()"
   ]
  },
  {
   "cell_type": "code",
   "execution_count": 87,
   "id": "6001368e",
   "metadata": {},
   "outputs": [
    {
     "data": {
      "image/png": "[encoded data removed]",
      "text/plain": [
       "<Figure size 1000x600 with 1 Axes>"
      ]
     },
     "metadata": {},
     "output_type": "display_data"
    }
   ],
   "source": [
    "# Visualizing relationship between Marital Status and Approval Status\n",
    "\n",
    "plt.figure(figsize=(10, 6))\n",
    "sns.countplot(x='marital_status', hue='approval_status', data=credit, palette='Set1')\n",
    "plt.title('Marital Status and Approval Status')\n",
    "plt.xlabel('Marital Status')\n",
    "plt.ylabel('Count')\n",
    "plt.legend(title='Approval Status', labels=['Not Approved', 'Approved'])\n",
    "plt.xticks(rotation=45)\n",
    "plt.show()"
   ]
  },
  {
   "cell_type": "code",
   "execution_count": 88,
   "id": "642ed520",
   "metadata": {},
   "outputs": [
    {
     "name": "stdout",
     "output_type": "stream",
     "text": [
      "-------------------------------\n",
      "Car Owners and approval Status:\n",
      "approval_status     0    1   All\n",
      "car_owner                       \n",
      "N                 816  108   924\n",
      "Y                 557   67   624\n",
      "All              1373  175  1548\n",
      "-------------------------------\n",
      "\n"
     ]
    },
    {
     "data": {
      "image/png": "[encoded data removed]",
      "text/plain": [
       "<Figure size 800x600 with 1 Axes>"
      ]
     },
     "metadata": {},
     "output_type": "display_data"
    }
   ],
   "source": [
    "# Visualizing relationship between Car Owners and Approval Status\n",
    "\n",
    "car_approval = pd.crosstab(credit['car_owner'], credit['approval_status'], margins=True)\n",
    "print(\"-------------------------------\")\n",
    "print(\"Car Owners and approval Status:\")\n",
    "print(car_approval)\n",
    "print(\"-------------------------------\\n\")\n",
    "plt.figure(figsize=(8, 6))\n",
    "sns.countplot(x='car_owner', hue='approval_status', data=credit, palette='Set1')\n",
    "plt.title('Approval Status by Car Ownership')\n",
    "plt.xlabel('Car Owner')\n",
    "plt.ylabel('Count')\n",
    "plt.legend(title='Approval Status', labels=['Not Approved', 'Approved'])\n",
    "plt.show()"
   ]
  },
  {
   "cell_type": "code",
   "execution_count": 89,
   "id": "518bf078",
   "metadata": {},
   "outputs": [
    {
     "name": "stdout",
     "output_type": "stream",
     "text": [
      "-------------------------------\n",
      "Property Owner and approval Status:\n",
      "approval_status     0    1   All\n",
      "property_owner                  \n",
      "N                 473   65   538\n",
      "Y                 900  110  1010\n",
      "All              1373  175  1548\n",
      "-------------------------------\n",
      "\n"
     ]
    },
    {
     "data": {
      "image/png": "[encoded data removed]",
      "text/plain": [
       "<Figure size 800x600 with 1 Axes>"
      ]
     },
     "metadata": {},
     "output_type": "display_data"
    }
   ],
   "source": [
    "# Visualizing relationship between Property Owners and Approval Status\n",
    "property_approval = pd.crosstab(credit['property_owner'], credit['approval_status'], margins=True)\n",
    "print(\"-------------------------------\")\n",
    "print(\"Property Owner and approval Status:\")\n",
    "print(property_approval)\n",
    "print(\"-------------------------------\\n\")\n",
    "plt.figure(figsize=(8, 6))\n",
    "sns.countplot(x='property_owner', hue='approval_status', data=credit, palette='Set1')\n",
    "plt.title('Approval Status by Property Ownership')\n",
    "plt.xlabel('Property Owner')\n",
    "plt.ylabel('Count')\n",
    "plt.legend(title='Approval Status', labels=['Not Approved', 'Approved'])\n",
    "plt.show()"
   ]
  },
  {
   "cell_type": "code",
   "execution_count": 90,
   "id": "c76abc43",
   "metadata": {},
   "outputs": [
    {
     "name": "stdout",
     "output_type": "stream",
     "text": [
      "-------------------------------\n",
      "Income Type and approval Status:\n",
      "approval_status          0    1   All\n",
      "type_income                          \n",
      "Commercial associate   315   50   365\n",
      "Pensioner              227   42   269\n",
      "State servant          110    6   116\n",
      "Working                721   77   798\n",
      "All                   1373  175  1548\n",
      "-------------------------------\n",
      "\n"
     ]
    },
    {
     "data": {
      "image/png": "[encoded data removed]",
      "text/plain": [
       "<Figure size 800x500 with 1 Axes>"
      ]
     },
     "metadata": {},
     "output_type": "display_data"
    }
   ],
   "source": [
    "# Visualizing Relationship between Income Type and Approval Status\n",
    "income_approval = pd.crosstab(credit['type_income'], credit['approval_status'], margins=True)\n",
    "print(\"-------------------------------\")\n",
    "print(\"Income Type and approval Status:\")\n",
    "print(income_approval)\n",
    "print(\"-------------------------------\\n\")\n",
    "plt.figure(figsize=(8,5))\n",
    "sns.countplot(data=credit, x='type_income',  hue='approval_status', palette='Set2')\n",
    "plt.title(\"Relationship between Income type and Approval Status\")\n",
    "plt.xlabel(\"Income Type\")\n",
    "plt.ylabel(\"Count\")\n",
    "plt.legend(title='Approval Status', labels=['Rejected', 'Approved'])\n",
    "plt.xticks(rotation=0)\n",
    "plt.show()"
   ]
  },
  {
   "cell_type": "code",
   "execution_count": 91,
   "id": "0e8c4439",
   "metadata": {},
   "outputs": [
    {
     "name": "stdout",
     "output_type": "stream",
     "text": [
      "-------------------------------\n",
      "Education and approval Status:\n",
      "approval_status         0    1   All\n",
      "education                           \n",
      "Academic degree         2    0     2\n",
      "Higher education      371   55   426\n",
      "Incomplete higher      63    5    68\n",
      "Lower secondary        15    6    21\n",
      "Secondary education   922  109  1031\n",
      "All                  1373  175  1548\n",
      "-------------------------------\n",
      "\n"
     ]
    },
    {
     "data": {
      "image/png": "[encoded data removed]",
      "text/plain": [
       "<Figure size 1200x600 with 1 Axes>"
      ]
     },
     "metadata": {},
     "output_type": "display_data"
    }
   ],
   "source": [
    "# Relationship between Education Level and Approval Status\n",
    "education_approval = pd.crosstab(credit['education'], credit['approval_status'], margins=True)\n",
    "print(\"-------------------------------\")\n",
    "print(\"Education and approval Status:\")\n",
    "print(education_approval)\n",
    "print(\"-------------------------------\\n\")\n",
    "plt.figure(figsize=(12, 6))\n",
    "sns.countplot(x='education', hue='approval_status', data=credit)\n",
    "plt.title('Education Level vs Approval Status')\n",
    "plt.xlabel('Education Level')\n",
    "plt.ylabel('Count')\n",
    "plt.legend(title='Approval Status', labels=['Not Approved', 'Approved'])\n",
    "plt.show()"
   ]
  },
  {
   "cell_type": "code",
   "execution_count": 92,
   "id": "e00ca7a5",
   "metadata": {},
   "outputs": [
    {
     "name": "stdout",
     "output_type": "stream",
     "text": [
      "-------------------------------\n",
      "Housing type and approval Status:\n",
      "approval_status         0    1   All\n",
      "housing_type                        \n",
      "Co-op apartment         3    2     5\n",
      "House / apartment    1234  146  1380\n",
      "Municipal apartment    37   16    53\n",
      "Office apartment        7    2     9\n",
      "Rented apartment       17    4    21\n",
      "With parents           75    5    80\n",
      "All                  1373  175  1548\n",
      "-------------------------------\n",
      "\n"
     ]
    },
    {
     "data": {
      "image/png": "[encoded data removed]",
      "text/plain": [
       "<Figure size 800x500 with 1 Axes>"
      ]
     },
     "metadata": {},
     "output_type": "display_data"
    }
   ],
   "source": [
    "# Relationship between Housing Type and Approval Status\n",
    "housing_approval = pd.crosstab(credit['housing_type'], credit['approval_status'], margins=True)\n",
    "print(\"-------------------------------\")\n",
    "print(\"Housing type and approval Status:\")\n",
    "print(housing_approval)\n",
    "print(\"-------------------------------\\n\")\n",
    "plt.figure(figsize=(8,5))\n",
    "sns.countplot(data=credit, x='housing_type',  hue='approval_status', palette='Set2')\n",
    "plt.title(\"Relationship between Housing type and Approval Status\")\n",
    "plt.xlabel(\"Housing type\")\n",
    "plt.ylabel(\"Count\")\n",
    "plt.legend(title='Approval Status', labels=['Rejected', 'Approved'])\n",
    "plt.xticks(rotation=45)\n",
    "plt.show()"
   ]
  },
  {
   "cell_type": "code",
   "execution_count": 93,
   "id": "34e064fc",
   "metadata": {},
   "outputs": [
    {
     "name": "stdout",
     "output_type": "stream",
     "text": [
      "<class 'pandas.core.frame.DataFrame'>\n",
      "Int64Index: 1548 entries, 0 to 1547\n",
      "Data columns (total 14 columns):\n",
      " #   Column           Non-Null Count  Dtype   \n",
      "---  ------           --------------  -----   \n",
      " 0   id               1548 non-null   int64   \n",
      " 1   gender           1541 non-null   object  \n",
      " 2   car_owner        1548 non-null   object  \n",
      " 3   property_owner   1548 non-null   object  \n",
      " 4   children         1548 non-null   int64   \n",
      " 5   annual_income    1548 non-null   int32   \n",
      " 6   type_income      1548 non-null   object  \n",
      " 7   education        1548 non-null   object  \n",
      " 8   marital_status   1548 non-null   object  \n",
      " 9   housing_type     1548 non-null   object  \n",
      " 10  age              1548 non-null   category\n",
      " 11  employed_status  1548 non-null   object  \n",
      " 12  family_size      1548 non-null   int64   \n",
      " 13  approval_status  1548 non-null   int64   \n",
      "dtypes: category(1), int32(1), int64(4), object(8)\n",
      "memory usage: 197.3+ KB\n"
     ]
    }
   ],
   "source": [
    "credit.info()"
   ]
  },
  {
   "cell_type": "code",
   "execution_count": 95,
   "id": "04d998fd",
   "metadata": {},
   "outputs": [],
   "source": [
    "X = credit.iloc[:, :-1]"
   ]
  },
  {
   "cell_type": "code",
   "execution_count": 96,
   "id": "89fe3275",
   "metadata": {},
   "outputs": [],
   "source": [
    "X.drop(columns=['id','type_income'], inplace=True, axis=1) # These variables are not necessary"
   ]
  },
  {
   "cell_type": "code",
   "execution_count": 97,
   "id": "0a25cb7f",
   "metadata": {},
   "outputs": [
    {
     "data": {
      "text/plain": [
       "array([[0.00e+00, 1.00e+00, 0.00e+00, ..., 0.00e+00, 1.80e+05, 2.00e+00],\n",
       "       [1.00e+00, 0.00e+00, 0.00e+00, ..., 0.00e+00, 3.15e+05, 2.00e+00],\n",
       "       [1.00e+00, 0.00e+00, 0.00e+00, ..., 0.00e+00, 3.15e+05, 2.00e+00],\n",
       "       ...,\n",
       "       [0.00e+00, 1.00e+00, 0.00e+00, ..., 2.00e+00, 1.80e+05, 4.00e+00],\n",
       "       [0.00e+00, 1.00e+00, 0.00e+00, ..., 0.00e+00, 2.70e+05, 2.00e+00],\n",
       "       [1.00e+00, 0.00e+00, 0.00e+00, ..., 0.00e+00, 2.25e+05, 2.00e+00]])"
      ]
     },
     "execution_count": 97,
     "metadata": {},
     "output_type": "execute_result"
    }
   ],
   "source": [
    "categorical_columns = [0, 1, 2, 5, 6, 7, 8, 9]\n",
    "ct = ColumnTransformer(transformers=[('encoder', OneHotEncoder(), categorical_columns)], remainder='passthrough')\n",
    "X = ct.fit_transform(X)\n",
    "X"
   ]
  },
  {
   "cell_type": "code",
   "execution_count": 98,
   "id": "16830650",
   "metadata": {},
   "outputs": [
    {
     "data": {
      "text/plain": [
       "0       1\n",
       "1       1\n",
       "2       1\n",
       "3       1\n",
       "4       1\n",
       "       ..\n",
       "1543    0\n",
       "1544    0\n",
       "1545    0\n",
       "1546    0\n",
       "1547    0\n",
       "Name: approval_status, Length: 1548, dtype: int64"
      ]
     },
     "execution_count": 98,
     "metadata": {},
     "output_type": "execute_result"
    }
   ],
   "source": [
    "y = credit.iloc[:,-1]\n",
    "y"
   ]
  },
  {
   "cell_type": "code",
   "execution_count": 99,
   "id": "92a83a98",
   "metadata": {},
   "outputs": [
    {
     "data": {
      "image/png": "[encoded data removed]",
      "text/plain": [
       "<Figure size 800x600 with 1 Axes>"
      ]
     },
     "metadata": {},
     "output_type": "display_data"
    },
    {
     "name": "stdout",
     "output_type": "stream",
     "text": [
      "0    1373\n",
      "1     175\n",
      "Name: approval_status, dtype: int64\n"
     ]
    }
   ],
   "source": [
    "# Count the occurrences of each class\n",
    "class_distribution = y.value_counts()\n",
    "# Visualize the class distribution\n",
    "plt.figure(figsize=(8, 6))\n",
    "sns.barplot(x=class_distribution.index, y=class_distribution.values)\n",
    "plt.title('Class Distribution')\n",
    "plt.xlabel('Classes')\n",
    "plt.ylabel('Count')\n",
    "plt.show()\n",
    "print(class_distribution)"
   ]
  },
  {
   "cell_type": "code",
   "execution_count": 100,
   "id": "13aa2b06",
   "metadata": {},
   "outputs": [],
   "source": [
    "from imblearn.over_sampling import RandomOverSampler\n",
    "oversampler = RandomOverSampler(sampling_strategy='minority', random_state=42)\n",
    "X, y = oversampler.fit_resample(X, y)"
   ]
  },
  {
   "cell_type": "code",
   "execution_count": 102,
   "id": "c88d83ae",
   "metadata": {},
   "outputs": [],
   "source": [
    "X_train, X_test, y_train, y_test = train_test_split(X, y, test_size = 0.2, random_state = 1)"
   ]
  },
  {
   "cell_type": "code",
   "execution_count": 103,
   "id": "49e480ed",
   "metadata": {},
   "outputs": [
    {
     "name": "stdout",
     "output_type": "stream",
     "text": [
      "(2196, 32)\n",
      "(550, 32)\n"
     ]
    }
   ],
   "source": [
    "print(X_train.shape)\n",
    "print(X_test.shape)"
   ]
  },
  {
   "cell_type": "code",
   "execution_count": 104,
   "id": "b922a0f7",
   "metadata": {},
   "outputs": [
    {
     "data": {
      "text/plain": [
       "array([[1.000e+00, 0.000e+00, 0.000e+00, ..., 1.000e+00, 2.250e+05,\n",
       "        2.000e+00],\n",
       "       [1.000e+00, 0.000e+00, 0.000e+00, ..., 0.000e+00, 1.350e+05,\n",
       "        1.000e+00],\n",
       "       [0.000e+00, 1.000e+00, 0.000e+00, ..., 1.000e+00, 1.035e+05,\n",
       "        3.000e+00],\n",
       "       ...,\n",
       "       [1.000e+00, 0.000e+00, 0.000e+00, ..., 1.000e+00, 2.520e+05,\n",
       "        2.000e+00],\n",
       "       [1.000e+00, 0.000e+00, 0.000e+00, ..., 0.000e+00, 1.575e+05,\n",
       "        2.000e+00],\n",
       "       [0.000e+00, 1.000e+00, 0.000e+00, ..., 0.000e+00, 2.025e+05,\n",
       "        1.000e+00]])"
      ]
     },
     "execution_count": 104,
     "metadata": {},
     "output_type": "execute_result"
    }
   ],
   "source": [
    "cc_train = X_train.copy()\n",
    "cc_train"
   ]
  },
  {
   "cell_type": "code",
   "execution_count": 105,
   "id": "ec018c1c",
   "metadata": {},
   "outputs": [
    {
     "data": {
      "text/plain": [
       "array([[1.00000e+00, 0.00000e+00, 0.00000e+00, ..., 0.00000e+00,\n",
       "        9.45000e+04, 2.00000e+00],\n",
       "       [0.00000e+00, 1.00000e+00, 0.00000e+00, ..., 1.00000e+00,\n",
       "        1.35000e+05, 3.00000e+00],\n",
       "       [1.00000e+00, 0.00000e+00, 0.00000e+00, ..., 0.00000e+00,\n",
       "        1.91399e+05, 1.00000e+00],\n",
       "       ...,\n",
       "       [0.00000e+00, 1.00000e+00, 0.00000e+00, ..., 0.00000e+00,\n",
       "        2.25000e+05, 2.00000e+00],\n",
       "       [1.00000e+00, 0.00000e+00, 0.00000e+00, ..., 0.00000e+00,\n",
       "        1.35000e+05, 2.00000e+00],\n",
       "       [0.00000e+00, 1.00000e+00, 0.00000e+00, ..., 0.00000e+00,\n",
       "        2.02500e+05, 2.00000e+00]])"
      ]
     },
     "execution_count": 105,
     "metadata": {},
     "output_type": "execute_result"
    }
   ],
   "source": [
    "cc_test = X_test.copy()\n",
    "cc_test"
   ]
  },
  {
   "cell_type": "code",
   "execution_count": 106,
   "id": "5fa92e41",
   "metadata": {},
   "outputs": [],
   "source": [
    "from sklearn.preprocessing import StandardScaler\n",
    "sc = StandardScaler()\n",
    "\n",
    "X_train[:,:] = sc.fit_transform(X_train[:,:])\n",
    "\n",
    "X_test[:,:] = sc.transform(X_test[:,:])"
   ]
  },
  {
   "cell_type": "code",
   "execution_count": 107,
   "id": "a46badb0",
   "metadata": {},
   "outputs": [
    {
     "data": {
      "text/plain": [
       "array([[ 0.83411803, -0.80846426, -0.12351756, ...,  0.93870609,\n",
       "         0.43227147, -0.1571032 ],\n",
       "       [ 0.83411803, -0.80846426, -0.12351756, ..., -0.60079994,\n",
       "        -0.60929277, -1.3508701 ],\n",
       "       [-1.19887109,  1.23691306, -0.12351756, ...,  0.93870609,\n",
       "        -0.97384025,  1.0366637 ],\n",
       "       ...,\n",
       "       [ 0.83411803, -0.80846426, -0.12351756, ...,  0.93870609,\n",
       "         0.74474074, -0.1571032 ],\n",
       "       [ 0.83411803, -0.80846426, -0.12351756, ..., -0.60079994,\n",
       "        -0.34890171, -0.1571032 ],\n",
       "       [-1.19887109,  1.23691306, -0.12351756, ..., -0.60079994,\n",
       "         0.17188041, -1.3508701 ]])"
      ]
     },
     "execution_count": 107,
     "metadata": {},
     "output_type": "execute_result"
    }
   ],
   "source": [
    "X_train"
   ]
  },
  {
   "cell_type": "code",
   "execution_count": 108,
   "id": "5ff73df6",
   "metadata": {},
   "outputs": [
    {
     "data": {
      "text/plain": [
       "array([[ 0.83411803, -0.80846426, -0.12351756, ..., -0.60079994,\n",
       "        -1.07799667, -0.1571032 ],\n",
       "       [-1.19887109,  1.23691306, -0.12351756, ...,  0.93870609,\n",
       "        -0.60929277,  1.0366637 ],\n",
       "       [ 0.83411803, -0.80846426, -0.12351756, ..., -0.60079994,\n",
       "         0.04340925, -1.3508701 ],\n",
       "       ...,\n",
       "       [-1.19887109,  1.23691306, -0.12351756, ..., -0.60079994,\n",
       "         0.43227147, -0.1571032 ],\n",
       "       [ 0.83411803, -0.80846426, -0.12351756, ..., -0.60079994,\n",
       "        -0.60929277, -0.1571032 ],\n",
       "       [-1.19887109,  1.23691306, -0.12351756, ..., -0.60079994,\n",
       "         0.17188041, -0.1571032 ]])"
      ]
     },
     "execution_count": 108,
     "metadata": {},
     "output_type": "execute_result"
    }
   ],
   "source": [
    "X_test"
   ]
  },
  {
   "cell_type": "code",
   "execution_count": 109,
   "id": "fddc6c41",
   "metadata": {},
   "outputs": [
    {
     "data": {
      "image/png": "[encoded data removed]",
      "text/plain": [
       "<Figure size 1200x1200 with 4 Axes>"
      ]
     },
     "metadata": {},
     "output_type": "display_data"
    }
   ],
   "source": [
    "# Create a figure with two rows and two columns\n",
    "fig, axes = plt.subplots(2, 2, figsize=(12, 12))\n",
    "\n",
    "# Before Standardization: Plot the distribution of X_train\n",
    "sns.distplot(cc_train, kde=True, ax=axes[0, 0])\n",
    "axes[0, 0].set_xlabel('Values')\n",
    "axes[0, 0].set_ylabel('Density')\n",
    "axes[0, 0].set_title('Distribution of X_train (Before Standardization)')\n",
    "\n",
    "# Before Standardization: Plot the distribution of X_test\n",
    "sns.distplot(cc_test, kde=True, ax=axes[0, 1])\n",
    "axes[0, 1].set_xlabel('Values')\n",
    "axes[0, 1].set_ylabel('Density')\n",
    "axes[0, 1].set_title('Distribution of X_test (Before Standardization)')\n",
    "\n",
    "# After Standardization: Plot the distribution of X_train\n",
    "sns.distplot(X_train, kde=True, ax=axes[1, 0])\n",
    "axes[1, 0].set_xlabel('Values')\n",
    "axes[1, 0].set_ylabel('Density')\n",
    "axes[1, 0].set_title('Distribution of X_train (After Standardization)')\n",
    "\n",
    "# After Standardization: Plot the distribution of X_test\n",
    "sns.distplot(X_test, kde=True, ax=axes[1, 1])\n",
    "axes[1, 1].set_xlabel('Values')\n",
    "axes[1, 1].set_ylabel('Density')\n",
    "axes[1, 1].set_title('Distribution of X_test (After Standardization)')\n",
    "\n",
    "# Adjust layout\n",
    "plt.tight_layout()\n",
    "\n",
    "# Show the plots\n",
    "plt.show()\n"
   ]
  },
  {
   "cell_type": "code",
   "execution_count": 110,
   "id": "732ffb24",
   "metadata": {},
   "outputs": [
    {
     "name": "stdout",
     "output_type": "stream",
     "text": [
      "Accuracy Score : 62.91\n",
      "Classification Report :\n",
      "               precision    recall  f1-score   support\n",
      "\n",
      "           0       0.61      0.72      0.66       277\n",
      "           1       0.65      0.54      0.59       273\n",
      "\n",
      "    accuracy                           0.63       550\n",
      "   macro avg       0.63      0.63      0.63       550\n",
      "weighted avg       0.63      0.63      0.63       550\n",
      "\n"
     ]
    }
   ],
   "source": [
    "# Create a Logistic Regression model\n",
    "lr = LogisticRegression()\n",
    "\n",
    "# Train the model on the training data\n",
    "lr.fit(X_train, y_train)\n",
    "\n",
    "# Make predictions on the test data\n",
    "y_pred = lr.predict(X_test)\n",
    "\n",
    "accuracy = round(accuracy_score(y_test, y_pred)*100,2)\n",
    "print(f'Accuracy Score : {accuracy}')\n",
    "\n",
    "class_report = classification_report(y_test, y_pred)\n",
    "print(f'Classification Report :\\n {class_report}')"
   ]
  },
  {
   "cell_type": "code",
   "execution_count": 111,
   "id": "6c5a52c9",
   "metadata": {},
   "outputs": [
    {
     "name": "stdout",
     "output_type": "stream",
     "text": [
      "{'C': 0.01, 'penalty': 'l2', 'solver': 'lbfgs'}\n",
      "LogisticRegression(C=0.01)\n"
     ]
    }
   ],
   "source": [
    "# Define the hyperparameter grid to search for logistic regression\n",
    "param_grid_lr = {\n",
    "    'C': [0.01, 0.1, 1, 10],\n",
    "    'penalty': ['l1', 'l2'],\n",
    "    'solver': ['liblinear', 'lbfgs', 'sag', 'saga']}\n",
    "\n",
    "grid_search_lr = GridSearchCV(estimator=LogisticRegression(), param_grid=param_grid_lr, cv=5, scoring='accuracy', n_jobs=-1)\n",
    "\n",
    "grid_search_lr.fit(X_train, y_train)\n",
    "\n",
    "# Get the best hyperparameters and the best score\n",
    "best_params_lr = grid_search_lr.best_params_\n",
    "best_model_lr = grid_search_lr.best_estimator_\n",
    "print(best_params_lr)\n",
    "print(best_model_lr)"
   ]
  },
  {
   "cell_type": "code",
   "execution_count": 112,
   "id": "5ea76275",
   "metadata": {},
   "outputs": [
    {
     "name": "stdout",
     "output_type": "stream",
     "text": [
      "Classification Report :\n",
      "               precision    recall  f1-score   support\n",
      "\n",
      "           0       0.61      0.72      0.66       277\n",
      "           1       0.65      0.54      0.59       273\n",
      "\n",
      "    accuracy                           0.63       550\n",
      "   macro avg       0.63      0.63      0.63       550\n",
      "weighted avg       0.63      0.63      0.63       550\n",
      "\n"
     ]
    }
   ],
   "source": [
    "lr_mod_best = LogisticRegression(C=10, penalty='l2', solver='liblinear')\n",
    "lr_mod_best.fit(X_train, y_train)\n",
    "#Predict the response for test dataset\n",
    "y_pred_best_lr = lr_mod_best.predict(X_test)\n",
    "class_report_lr_best = classification_report(y_test, y_pred_best_lr)\n",
    "print(f'Classification Report :\\n {class_report_lr_best}')"
   ]
  },
  {
   "cell_type": "code",
   "execution_count": 113,
   "id": "6e5a51e4",
   "metadata": {},
   "outputs": [
    {
     "name": "stdout",
     "output_type": "stream",
     "text": [
      "Accuracy Score after tuning : 62.91\n"
     ]
    }
   ],
   "source": [
    "lrmodel_accuracy = round(accuracy_score(y_test, y_pred_best_lr)*100, 2)\n",
    "print(f'Accuracy Score after tuning : {lrmodel_accuracy}')"
   ]
  },
  {
   "cell_type": "code",
   "execution_count": 115,
   "id": "65f37c61",
   "metadata": {},
   "outputs": [
    {
     "name": "stdout",
     "output_type": "stream",
     "text": [
      "Accuracy Score : 96.0\n",
      "Classification Report :\n",
      "               precision    recall  f1-score   support\n",
      "\n",
      "           0       1.00      0.92      0.96       277\n",
      "           1       0.93      1.00      0.96       273\n",
      "\n",
      "    accuracy                           0.96       550\n",
      "   macro avg       0.96      0.96      0.96       550\n",
      "weighted avg       0.96      0.96      0.96       550\n",
      "\n"
     ]
    }
   ],
   "source": [
    "# Create a DecisionTree Model\n",
    "dt = DecisionTreeClassifier()\n",
    "\n",
    "# Train the model on the training data\n",
    "dt.fit(X_train, y_train)\n",
    "\n",
    "# Make predictions on the test data\n",
    "y_pred = dt.predict(X_test)\n",
    "\n",
    "accuracy = round(accuracy_score(y_test, y_pred)*100,2)\n",
    "print(f'Accuracy Score : {accuracy}')\n",
    "\n",
    "class_report = classification_report(y_test, y_pred)\n",
    "print(f'Classification Report :\\n {class_report}')\n"
   ]
  },
  {
   "cell_type": "code",
   "execution_count": 116,
   "id": "f9424618",
   "metadata": {},
   "outputs": [
    {
     "name": "stdout",
     "output_type": "stream",
     "text": [
      "{'criterion': 'gini', 'max_depth': None, 'min_samples_leaf': 1, 'min_samples_split': 2}\n",
      "DecisionTreeClassifier()\n"
     ]
    }
   ],
   "source": [
    "# Define the hyperparameter grid to search for decision tree\n",
    "param_grid_dt = {\n",
    "    'max_depth': [None, 10, 20, 30],\n",
    "    'min_samples_split': [2, 5, 10],\n",
    "    'min_samples_leaf': [1, 2, 4],\n",
    "    'criterion': ['gini', 'entropy']}\n",
    "\n",
    "# Create the GridSearchCV object\n",
    "grid_search_dt = GridSearchCV(dt, param_grid_dt, cv=5, scoring='f1', n_jobs=-1)\n",
    "\n",
    "grid_search_dt.fit(X_train, y_train)\n",
    "\n",
    "# Get the best hyperparameters and the best model\n",
    "best_params_dt = grid_search_dt.best_params_\n",
    "best_model_dt = grid_search_dt.best_estimator_\n",
    "print(best_params_dt)\n",
    "print(best_model_dt)"
   ]
  },
  {
   "cell_type": "code",
   "execution_count": 117,
   "id": "d1cff991",
   "metadata": {},
   "outputs": [
    {
     "name": "stdout",
     "output_type": "stream",
     "text": [
      "Classification Report :\n",
      "               precision    recall  f1-score   support\n",
      "\n",
      "           0       1.00      0.88      0.94       277\n",
      "           1       0.89      1.00      0.94       273\n",
      "\n",
      "    accuracy                           0.94       550\n",
      "   macro avg       0.95      0.94      0.94       550\n",
      "weighted avg       0.95      0.94      0.94       550\n",
      "\n"
     ]
    }
   ],
   "source": [
    "dt_mod_best = DecisionTreeClassifier(criterion = 'gini', min_samples_leaf = 1, min_samples_split = 2)\n",
    "dt_mod_best.fit(X_train, y_train)\n",
    "#Predict the response for test dataset\n",
    "y_pred_best_dt = dt_mod_best.predict(X_test)\n",
    "class_report_dt_best = classification_report(y_test, y_pred_best_dt)\n",
    "print(f'Classification Report :\\n {class_report_dt_best}')"
   ]
  },
  {
   "cell_type": "code",
   "execution_count": 118,
   "id": "71f2ef39",
   "metadata": {},
   "outputs": [
    {
     "name": "stdout",
     "output_type": "stream",
     "text": [
      "Accuracy Score after tuning : 94.0\n"
     ]
    }
   ],
   "source": [
    "dtmodel_accuracy = round(accuracy_score(y_test, y_pred_best_dt)*100, 2)\n",
    "print(f'Accuracy Score after tuning : {dtmodel_accuracy}')"
   ]
  },
  {
   "cell_type": "code",
   "execution_count": 119,
   "id": "b8a052c7",
   "metadata": {},
   "outputs": [
    {
     "name": "stdout",
     "output_type": "stream",
     "text": [
      "Accuracy Score: 97.09\n",
      "Classification Report :\n",
      "               precision    recall  f1-score   support\n",
      "\n",
      "           0       1.00      0.94      0.97       277\n",
      "           1       0.94      1.00      0.97       273\n",
      "\n",
      "    accuracy                           0.97       550\n",
      "   macro avg       0.97      0.97      0.97       550\n",
      "weighted avg       0.97      0.97      0.97       550\n",
      "\n"
     ]
    }
   ],
   "source": [
    "# Create a Logistic Random Forest\n",
    "rf = RandomForestClassifier(random_state = 42)\n",
    "\n",
    "# Train the model on the training data\n",
    "rf.fit(X_train, y_train)\n",
    "\n",
    "# Make predictions on the test data\n",
    "y_pred = rf.predict(X_test)\n",
    "\n",
    "accuracy = round(accuracy_score(y_test, y_pred)*100,2)\n",
    "print(f'Accuracy Score: {accuracy}')\n",
    "\n",
    "class_report = classification_report(y_test, y_pred)\n",
    "print(f'Classification Report :\\n {class_report}')"
   ]
  },
  {
   "cell_type": "code",
   "execution_count": null,
   "id": "2ee3f1ba",
   "metadata": {},
   "outputs": [],
   "source": [
    "# Define the hyperparameter grid to search for random forest\n",
    "param_grid_rf = {\n",
    "    'n_estimators': [50, 100, 200],\n",
    "    'max_depth': [None, 10, 20, 30],\n",
    "    'min_samples_split': [2, 5, 10],\n",
    "    'min_samples_leaf': [1, 2, 4],\n",
    "    'criterion': ['gini', 'entropy']}\n",
    "\n",
    "grid_search_rf = GridSearchCV(rf, param_grid_rf, cv=5, scoring='f1', n_jobs=-1)\n",
    "\n",
    "grid_search_rf.fit(X_train, y_train)\n",
    "\n",
    "# Get the best hyperparameters and the best model\n",
    "best_params_rf = grid_search_rf.best_params_\n",
    "best_model_rf = grid_search_rf.best_estimator_\n",
    "print(best_params_rf)\n",
    "print(best_model_rf)"
   ]
  },
  {
   "cell_type": "code",
   "execution_count": 121,
   "id": "b9a36e65",
   "metadata": {},
   "outputs": [
    {
     "name": "stdout",
     "output_type": "stream",
     "text": [
      "Classification Report :\n",
      "               precision    recall  f1-score   support\n",
      "\n",
      "           0       1.00      0.94      0.97       277\n",
      "           1       0.94      1.00      0.97       273\n",
      "\n",
      "    accuracy                           0.97       550\n",
      "   macro avg       0.97      0.97      0.97       550\n",
      "weighted avg       0.97      0.97      0.97       550\n",
      "\n"
     ]
    }
   ],
   "source": [
    "rf_mod_best = RandomForestClassifier(criterion = 'gini', min_samples_leaf = 1, min_samples_split=2, n_estimators=100, random_state=42)\n",
    "rf_mod_best.fit(X_train, y_train)\n",
    "#Predict the response for test dataset\n",
    "y_pred_best_rf = rf_mod_best.predict(X_test)\n",
    "class_report_rf_best = classification_report(y_test, y_pred_best_rf)\n",
    "print(f'Classification Report :\\n {class_report_rf_best}')"
   ]
  },
  {
   "cell_type": "code",
   "execution_count": null,
   "id": "cf2bda40",
   "metadata": {},
   "outputs": [],
   "source": [
    "rfmodel_accuracy = round(accuracy_score(y_test, y_pred_best_rf)*100, 2)\n",
    "print(f'Accuracy Score after tuning : {rfmodel_accuracy}')"
   ]
  },
  {
   "cell_type": "code",
   "execution_count": null,
   "id": "cecfaf91",
   "metadata": {},
   "outputs": [],
   "source": [
    "# Create a Support Vector Machine (SVM)\n",
    "svm = SVC()\n",
    "\n",
    "# Train the model on the training data\n",
    "svm.fit(X_train, y_train)\n",
    "\n",
    "# Make predictions on the test data\n",
    "y_pred = svm.predict(X_test)\n",
    "\n",
    "accuracy = round(accuracy_score(y_test, y_pred)*100,2)\n",
    "print(f'Accuracy Score: {accuracy}')\n",
    "\n",
    "class_report = classification_report(y_test, y_pred)\n",
    "print(f'Classification Report :\\n {class_report}')"
   ]
  },
  {
   "cell_type": "code",
   "execution_count": null,
   "id": "4d3f2679",
   "metadata": {},
   "outputs": [],
   "source": [
    "param_grid = {\n",
    "    'C': [0.1, 1, 10],\n",
    "    'kernel': ['linear', 'rbf', 'poly'],\n",
    "    'gamma': ['scale', 'auto', 0.1, 1]}\n",
    "\n",
    "# Create the GridSearchCV object\n",
    "grid_search_svc = GridSearchCV(svm, param_grid, cv=5, scoring='f1', verbose=1, n_jobs=-1)\n",
    "grid_search_svc.fit(X_train, y_train)\n",
    "\n",
    "best_params_svc = grid_search_svc.best_params_\n",
    "best_model_svc= SVC(**best_params_svc)\n",
    "print(best_model_svc)"
   ]
  },
  {
   "cell_type": "markdown",
   "id": "5c3963f2",
   "metadata": {},
   "source": [
    "## Model Comparison"
   ]
  },
  {
   "cell_type": "code",
   "execution_count": null,
   "id": "3b15ae99",
   "metadata": {},
   "outputs": [],
   "source": [
    "import plotly.graph_objs as go\n",
    "import plotly.offline as pyo\n",
    "\n",
    "models = ['Logistic Regression', 'Decision Tree', 'Random Forest', 'SVM']\n",
    "accuracy_scores = [lrmodel_accuracy, dtmodel_accuracy, rfmodel_accuracy, svcmodel_accuracy]\n",
    "\n",
    "trace = go.Bar(\n",
    "    x=models,\n",
    "    y=accuracy_scores,\n",
    "    text=[f'{score}%' for score in accuracy_scores],\n",
    "    marker=dict(color='lightblue', line=dict(color='black', width=1.5)),\n",
    ")\n",
    "\n",
    "data = [trace]\n",
    "\n",
    "layout = go.Layout(\n",
    "    title='Comparison of Model Performance Metrics',\n",
    "    xaxis=dict(title='Models'),\n",
    "    yaxis=dict(title='Scores'),\n",
    ")\n",
    "\n",
    "fig = go.Figure(data=data, layout=layout)\n",
    "\n",
    "\n",
    "pyo.iplot(fig)\n",
    "\n",
    "#Model comparison DataFrame\n",
    "accuracy_scores_with_percent = [f'{score}%' for score in accuracy_scores]\n",
    "model_comparison_df = pd.DataFrame({'Model_Name': models, 'Accuracy Score': accuracy_scores_with_percent})\n",
    "model_comparison_df = model_comparison_df.sort_values(by='Accuracy Score', ascending=False)\n",
    "model_comparison_df.reset_index(drop=True, inplace=True)\n",
    "print(model_comparison_df)"
   ]
  },
  {
   "cell_type": "code",
   "execution_count": null,
   "id": "4d93ae2e",
   "metadata": {},
   "outputs": [],
   "source": []
  }
 ],
 "metadata": {
  "kernelspec": {
   "display_name": "Python 3 (ipykernel)",
   "language": "python",
   "name": "python3"
  },
  "language_info": {
   "codemirror_mode": {
    "name": "ipython",
    "version": 3
   },
   "file_extension": ".py",
   "mimetype": "text/x-python",
   "name": "python",
   "nbconvert_exporter": "python",
   "pygments_lexer": "ipython3",
   "version": "3.10.9"
  }
 },
 "nbformat": 4,
 "nbformat_minor": 5
}
